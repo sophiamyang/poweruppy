{
 "cells": [
  {
   "cell_type": "markdown",
   "metadata": {},
   "source": [
    "# Interrupted Time-Series (ITS)\n",
    "\n",
    "\n",
    "| Assignment | Clustering Level | Treatment Assignment | Treatment Level| Cluster Effect |\n",
    "|:----------:|:----------------:|:--------------------:|:--------------:|:--------------:|\n",
    "| blocked    | 3                | cluster              | 2              | constant at level 3 <br> random at level 2         |\n"
   ]
  },
  {
   "cell_type": "code",
   "execution_count": 1,
   "metadata": {},
   "outputs": [],
   "source": [
    "from pypowerup import effect_size, sample_size, power"
   ]
  },
  {
   "cell_type": "markdown",
   "metadata": {},
   "source": [
    "**No comparison units**"
   ]
  },
  {
   "cell_type": "code",
   "execution_count": 2,
   "metadata": {},
   "outputs": [
    {
     "data": {
      "text/plain": [
       "0.3658177052373508"
      ]
     },
     "execution_count": 2,
     "metadata": {},
     "output_type": "execute_result"
    }
   ],
   "source": [
    "# effect size, i.e., minimum detectable effect sizes (MDES)\n",
    "effect_size(design = \"its_nocompare\", rho2=0.03, T=5, n=75, K=10, r22=0, tf=2, g=0)"
   ]
  },
  {
   "cell_type": "code",
   "execution_count": 3,
   "metadata": {},
   "outputs": [
    {
     "data": {
      "text/plain": [
       "10.0"
      ]
     },
     "execution_count": 3,
     "metadata": {},
     "output_type": "execute_result"
    }
   ],
   "source": [
    "# sample_size, i.e., minimum required samples sizes (MRSS) for level 3 units\n",
    "sample_size(design = \"its_nocompare\", es=0.3658177052373508, rho2=0.03, T=5, n=75, r22=0, tf=2, g=0)"
   ]
  },
  {
   "cell_type": "code",
   "execution_count": 4,
   "metadata": {},
   "outputs": [
    {
     "data": {
      "text/plain": [
       "0.8000060699483386"
      ]
     },
     "execution_count": 4,
     "metadata": {},
     "output_type": "execute_result"
    }
   ],
   "source": [
    "# power\n",
    "power(design = \"its_nocompare\", es=0.3658177052373508, rho2=0.03, T=5, n=75, K=10, r22=0, tf=2, g=0)"
   ]
  },
  {
   "cell_type": "raw",
   "metadata": {},
   "source": [
    "<table border=\"1\" class=\"docutils\">\n",
    "<colgroup>\n",
    "<col width=\"32%\" />\n",
    "<col width=\"26%\" />\n",
    "<col width=\"26%\" />\n",
    "<col width=\"16%\" />\n",
    "</colgroup>\n",
    "<thead valign=\"bottom\">\n",
    "<tr class=\"row-odd\"><th class=\"head\">Parameters</th>\n",
    "<th class=\"head\"><code class=\"docutils literal notranslate\"><span class=\"pre\">effect_size</span></code></th>\n",
    "<th class=\"head\"><code class=\"docutils literal notranslate\"><span class=\"pre\">sample_size</span></code></th>\n",
    "<th class=\"head\"><code class=\"docutils literal notranslate\"><span class=\"pre\">power</span></code></th>\n",
    "</tr>\n",
    "</thead>\n",
    "<tbody valign=\"top\">\n",
    "<tr class=\"row-even\"><td><a class=\"hoverxref tooltip reference internal\" data-doc=\"parameters\" data-docpath=\"/parameters.html\" data-project=\"pypowerup\" data-section=\"design\" data-version=\"latest\" href=\"parameters.html#design\"><span class=\"std std-ref\">design</span></a></td>\n",
    "<td>✓</td>\n",
    "<td>✓</td>\n",
    "<td>✓</td>\n",
    "</tr>\n",
    "<tr class=\"row-odd\"><td><a class=\"hoverxref tooltip reference internal\" data-doc=\"parameters\" data-docpath=\"/parameters.html\" data-project=\"pypowerup\" data-section=\"es\" data-version=\"latest\" href=\"parameters.html#es\"><span class=\"std std-ref\">es</span></a></td>\n",
    "<td>&#160;</td>\n",
    "<td>✓</td>\n",
    "<td>✓</td>\n",
    "</tr>\n",
    "<tr class=\"row-odd\"><td><a class=\"hoverxref tooltip reference internal\" data-doc=\"parameters\" data-docpath=\"/parameters.html\" data-project=\"pypowerup\" data-section=\"n\" data-version=\"latest\" href=\"parameters.html#n\"><span class=\"std std-ref\">n</span></a></td>\n",
    "<td>✓</td>\n",
    "<td>✓</td>\n",
    "<td>✓</td>\n",
    "</tr>\n",
    "<tr class=\"row-odd\"><td><a class=\"hoverxref tooltip reference internal\" data-doc=\"parameters\" data-docpath=\"/parameters.html\" data-project=\"pypowerup\" data-section=\"K\" data-version=\"latest\" href=\"parameters.html#K\"><span class=\"std std-ref\">K</span></a></td>\n",
    "<td>✓</td>\n",
    "<td>&#160;</td>\n",
    "<td>✓</td>\n",
    "</tr>\n",
    "<tr class=\"row-odd\"><td><a class=\"hoverxref tooltip reference internal\" data-doc=\"parameters\" data-docpath=\"/parameters.html\" data-project=\"pypowerup\" data-section=\"power\" data-version=\"latest\" href=\"parameters.html#power\"><span class=\"std std-ref\">power</span></a></td>\n",
    "<td>✓</td>\n",
    "<td>✓</td>\n",
    "<td>&#160;</td>\n",
    "</tr>\n",
    "<tr class=\"row-odd\"><td><a class=\"hoverxref tooltip reference internal\" data-doc=\"parameters\" data-docpath=\"/parameters.html\" data-project=\"pypowerup\" data-section=\"alpha\" data-version=\"latest\" href=\"parameters.html#alpha\"><span class=\"std std-ref\">alpha</span></a></td>\n",
    "<td>✓</td>\n",
    "<td>✓</td>\n",
    "<td>✓</td>\n",
    "</tr>\n",
    "<tr class=\"row-even\"><td><a class=\"hoverxref tooltip reference internal\" data-doc=\"parameters\" data-docpath=\"/parameters.html\" data-project=\"pypowerup\" data-section=\"two-tailed\" data-version=\"latest\" href=\"parameters.html#two-tailed\"><span class=\"std std-ref\">two_tailed</span></a></td>\n",
    "<td>✓</td>\n",
    "<td>✓</td>\n",
    "<td>✓</td>\n",
    "</tr>\n",
    "<tr class=\"row-odd\"><td><a class=\"hoverxref tooltip reference internal\" data-doc=\"parameters\" data-docpath=\"/parameters.html\" data-project=\"pypowerup\" data-section=\"p\" data-version=\"latest\" href=\"parameters.html#p\"><span class=\"std std-ref\">p</span></a></td>\n",
    "<td>✓</td>\n",
    "<td>✓</td>\n",
    "<td>✓</td>\n",
    "</tr>\n",
    "<tr class=\"row-even\"><td><a class=\"hoverxref tooltip reference internal\" data-doc=\"parameters\" data-docpath=\"/parameters.html\" data-project=\"pypowerup\" data-section=\"r22\" data-version=\"latest\" href=\"parameters.html#r22\"><span class=\"std std-ref\">r22</span></a></td>\n",
    "<td>✓</td>\n",
    "<td>✓</td>\n",
    "<td>✓</td>\n",
    "</tr>\n",
    "<tr class=\"row-even\"><td><a class=\"hoverxref tooltip reference internal\" data-doc=\"parameters\" data-docpath=\"/parameters.html\" data-project=\"pypowerup\" data-section=\"rho2\" data-version=\"latest\" href=\"parameters.html#rho2\"><span class=\"std std-ref\">rho2</span></a></td>\n",
    "<td>✓</td>\n",
    "<td>✓</td>\n",
    "<td>✓</td>\n",
    "</tr>\n",
    "<tr class=\"row-odd\"><td><a class=\"hoverxref tooltip reference internal\" data-doc=\"parameters\" data-docpath=\"/parameters.html\" data-project=\"pypowerup\" data-section=\"g\" data-version=\"latest\" href=\"parameters.html#g\"><span class=\"std std-ref\">g</span></a></td>\n",
    "<td>✓</td>\n",
    "<td>✓</td>\n",
    "<td>✓</td>\n",
    "</tr>\n",
    "<tr class=\"row-odd\"><td><a class=\"hoverxref tooltip reference internal\" data-doc=\"parameters\" data-docpath=\"/parameters.html\" data-project=\"pypowerup\" data-section=\"T\" data-version=\"latest\" href=\"parameters.html#T\"><span class=\"std std-ref\">T</span></a></td>\n",
    "<td>✓</td>\n",
    "<td>✓</td>\n",
    "<td>✓</td>\n",
    "</tr>\n",
    "<tr class=\"row-odd\"><td><a class=\"hoverxref tooltip reference internal\" data-doc=\"parameters\" data-docpath=\"/parameters.html\" data-project=\"pypowerup\" data-section=\"tf\" data-version=\"latest\" href=\"parameters.html#tf\"><span class=\"std std-ref\">tf</span></a></td>\n",
    "<td>✓</td>\n",
    "<td>✓</td>\n",
    "<td>✓</td>\n",
    "</tr>\n",
    "</tbody>\n",
    "</table>"
   ]
  },
  {
   "cell_type": "markdown",
   "metadata": {},
   "source": [
    "**With comparison units**"
   ]
  },
  {
   "cell_type": "code",
   "execution_count": 5,
   "metadata": {},
   "outputs": [
    {
     "data": {
      "text/plain": [
       "0.44803335835368546"
      ]
     },
     "execution_count": 5,
     "metadata": {},
     "output_type": "execute_result"
    }
   ],
   "source": [
    "# effect size, i.e., minimum detectable effect sizes (MDES)\n",
    "effect_size(design = \"its_wcompare\", rho2=0.03, T=5, n=75, K=10, r22=0, tf=2, g=0,q=2)"
   ]
  },
  {
   "cell_type": "code",
   "execution_count": 6,
   "metadata": {},
   "outputs": [
    {
     "data": {
      "text/plain": [
       "10.0"
      ]
     },
     "execution_count": 6,
     "metadata": {},
     "output_type": "execute_result"
    }
   ],
   "source": [
    "# sample_size, i.e., minimum required samples sizes (MRSS) for level 3 units\n",
    "sample_size(design = \"its_wcompare\", es=0.44803335835368546, rho2=0.03, T=5, n=75, r22=0, tf=2, g=0, q=2)"
   ]
  },
  {
   "cell_type": "code",
   "execution_count": 7,
   "metadata": {},
   "outputs": [
    {
     "data": {
      "text/plain": [
       "0.8000060699483386"
      ]
     },
     "execution_count": 7,
     "metadata": {},
     "output_type": "execute_result"
    }
   ],
   "source": [
    "# power\n",
    "power(design = \"its_wcompare\", es=0.44803335835368546, rho2=0.03, T=5, n=75, K=10, r22=0, tf=2, g=0, q=2)"
   ]
  },
  {
   "cell_type": "raw",
   "metadata": {},
   "source": [
    "<table border=\"1\" class=\"docutils\">\n",
    "<colgroup>\n",
    "<col width=\"32%\" />\n",
    "<col width=\"26%\" />\n",
    "<col width=\"26%\" />\n",
    "<col width=\"16%\" />\n",
    "</colgroup>\n",
    "<thead valign=\"bottom\">\n",
    "<tr class=\"row-odd\"><th class=\"head\">Parameters</th>\n",
    "<th class=\"head\"><code class=\"docutils literal notranslate\"><span class=\"pre\">effect_size</span></code></th>\n",
    "<th class=\"head\"><code class=\"docutils literal notranslate\"><span class=\"pre\">sample_size</span></code></th>\n",
    "<th class=\"head\"><code class=\"docutils literal notranslate\"><span class=\"pre\">power</span></code></th>\n",
    "</tr>\n",
    "</thead>\n",
    "<tbody valign=\"top\">\n",
    "<tr class=\"row-even\"><td><a class=\"hoverxref tooltip reference internal\" data-doc=\"parameters\" data-docpath=\"/parameters.html\" data-project=\"pypowerup\" data-section=\"design\" data-version=\"latest\" href=\"parameters.html#design\"><span class=\"std std-ref\">design</span></a></td>\n",
    "<td>✓</td>\n",
    "<td>✓</td>\n",
    "<td>✓</td>\n",
    "</tr>\n",
    "<tr class=\"row-odd\"><td><a class=\"hoverxref tooltip reference internal\" data-doc=\"parameters\" data-docpath=\"/parameters.html\" data-project=\"pypowerup\" data-section=\"es\" data-version=\"latest\" href=\"parameters.html#es\"><span class=\"std std-ref\">es</span></a></td>\n",
    "<td>&#160;</td>\n",
    "<td>✓</td>\n",
    "<td>✓</td>\n",
    "</tr>\n",
    "<tr class=\"row-odd\"><td><a class=\"hoverxref tooltip reference internal\" data-doc=\"parameters\" data-docpath=\"/parameters.html\" data-project=\"pypowerup\" data-section=\"n\" data-version=\"latest\" href=\"parameters.html#n\"><span class=\"std std-ref\">n</span></a></td>\n",
    "<td>✓</td>\n",
    "<td>✓</td>\n",
    "<td>✓</td>\n",
    "</tr>\n",
    "<tr class=\"row-odd\"><td><a class=\"hoverxref tooltip reference internal\" data-doc=\"parameters\" data-docpath=\"/parameters.html\" data-project=\"pypowerup\" data-section=\"K\" data-version=\"latest\" href=\"parameters.html#K\"><span class=\"std std-ref\">K</span></a></td>\n",
    "<td>✓</td>\n",
    "<td>&#160;</td>\n",
    "<td>✓</td>\n",
    "</tr>\n",
    "<tr class=\"row-odd\"><td><a class=\"hoverxref tooltip reference internal\" data-doc=\"parameters\" data-docpath=\"/parameters.html\" data-project=\"pypowerup\" data-section=\"power\" data-version=\"latest\" href=\"parameters.html#power\"><span class=\"std std-ref\">power</span></a></td>\n",
    "<td>✓</td>\n",
    "<td>✓</td>\n",
    "<td>&#160;</td>\n",
    "</tr>\n",
    "<tr class=\"row-odd\"><td><a class=\"hoverxref tooltip reference internal\" data-doc=\"parameters\" data-docpath=\"/parameters.html\" data-project=\"pypowerup\" data-section=\"alpha\" data-version=\"latest\" href=\"parameters.html#alpha\"><span class=\"std std-ref\">alpha</span></a></td>\n",
    "<td>✓</td>\n",
    "<td>✓</td>\n",
    "<td>✓</td>\n",
    "</tr>\n",
    "<tr class=\"row-even\"><td><a class=\"hoverxref tooltip reference internal\" data-doc=\"parameters\" data-docpath=\"/parameters.html\" data-project=\"pypowerup\" data-section=\"two-tailed\" data-version=\"latest\" href=\"parameters.html#two-tailed\"><span class=\"std std-ref\">two_tailed</span></a></td>\n",
    "<td>✓</td>\n",
    "<td>✓</td>\n",
    "<td>✓</td>\n",
    "</tr>\n",
    "<tr class=\"row-odd\"><td><a class=\"hoverxref tooltip reference internal\" data-doc=\"parameters\" data-docpath=\"/parameters.html\" data-project=\"pypowerup\" data-section=\"p\" data-version=\"latest\" href=\"parameters.html#p\"><span class=\"std std-ref\">p</span></a></td>\n",
    "<td>✓</td>\n",
    "<td>✓</td>\n",
    "<td>✓</td>\n",
    "</tr>\n",
    "<tr class=\"row-even\"><td><a class=\"hoverxref tooltip reference internal\" data-doc=\"parameters\" data-docpath=\"/parameters.html\" data-project=\"pypowerup\" data-section=\"r22\" data-version=\"latest\" href=\"parameters.html#r22\"><span class=\"std std-ref\">r22</span></a></td>\n",
    "<td>✓</td>\n",
    "<td>✓</td>\n",
    "<td>✓</td>\n",
    "</tr>\n",
    "<tr class=\"row-even\"><td><a class=\"hoverxref tooltip reference internal\" data-doc=\"parameters\" data-docpath=\"/parameters.html\" data-project=\"pypowerup\" data-section=\"rho2\" data-version=\"latest\" href=\"parameters.html#rho2\"><span class=\"std std-ref\">rho2</span></a></td>\n",
    "<td>✓</td>\n",
    "<td>✓</td>\n",
    "<td>✓</td>\n",
    "</tr>\n",
    "<tr class=\"row-odd\"><td><a class=\"hoverxref tooltip reference internal\" data-doc=\"parameters\" data-docpath=\"/parameters.html\" data-project=\"pypowerup\" data-section=\"g\" data-version=\"latest\" href=\"parameters.html#g\"><span class=\"std std-ref\">g</span></a></td>\n",
    "<td>✓</td>\n",
    "<td>✓</td>\n",
    "<td>✓</td>\n",
    "</tr>\n",
    "<tr class=\"row-odd\"><td><a class=\"hoverxref tooltip reference internal\" data-doc=\"parameters\" data-docpath=\"/parameters.html\" data-project=\"pypowerup\" data-section=\"T\" data-version=\"latest\" href=\"parameters.html#T\"><span class=\"std std-ref\">T</span></a></td>\n",
    "<td>✓</td>\n",
    "<td>✓</td>\n",
    "<td>✓</td>\n",
    "</tr>\n",
    "<tr class=\"row-odd\"><td><a class=\"hoverxref tooltip reference internal\" data-doc=\"parameters\" data-docpath=\"/parameters.html\" data-project=\"pypowerup\" data-section=\"tf\" data-version=\"latest\" href=\"parameters.html#tf\"><span class=\"std std-ref\">tf</span></a></td>\n",
    "<td>✓</td>\n",
    "<td>✓</td>\n",
    "<td>✓</td>\n",
    "</tr>\n",
    "<tr class=\"row-odd\"><td><a class=\"hoverxref tooltip reference internal\" data-doc=\"parameters\" data-docpath=\"/parameters.html\" data-project=\"pypowerup\" data-section=\"q\" data-version=\"latest\" href=\"parameters.html#q\"><span class=\"std std-ref\">q</span></a></td>\n",
    "<td>✓</td>\n",
    "<td>✓</td>\n",
    "<td>✓</td>\n",
    "</tr>\n",
    "</tbody>\n",
    "</table>"
   ]
  }
 ],
 "metadata": {
  "kernelspec": {
   "display_name": "Python 3",
   "language": "python",
   "name": "python3"
  },
  "language_info": {
   "codemirror_mode": {
    "name": "ipython",
    "version": 3
   },
   "file_extension": ".py",
   "mimetype": "text/x-python",
   "name": "python",
   "nbconvert_exporter": "python",
   "pygments_lexer": "ipython3",
   "version": "3.7.7"
  }
 },
 "nbformat": 4,
 "nbformat_minor": 4
}
