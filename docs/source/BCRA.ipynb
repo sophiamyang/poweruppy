{
 "cells": [
  {
   "cell_type": "markdown",
   "metadata": {},
   "source": [
    "# Blocked (Stratified) Cluster Randomized Assignment (BCRA)\n",
    "\n",
    "\n",
    "## BCRA3_2f\n",
    "\n",
    "| Assignment | Clustering Level | Treatment Assignment | Treatment Level| Cluster Effect |\n",
    "|:----------:|:----------------:|:--------------------:|:--------------:|:--------------:|\n",
    "| blocked    | 3                | cluster              | 2              | fixed          |\n"
   ]
  },
  {
   "cell_type": "code",
   "execution_count": 1,
   "metadata": {},
   "outputs": [],
   "source": [
    "from pypowerup import effect_size, sample_size, power"
   ]
  },
  {
   "cell_type": "code",
   "execution_count": 2,
   "metadata": {},
   "outputs": [
    {
     "data": {
      "text/plain": [
       "0.10219354337360606"
      ]
     },
     "execution_count": 2,
     "metadata": {},
     "output_type": "execute_result"
    }
   ],
   "source": [
    "# effect size, i.e., minimum detectable effect sizes (MDES)\n",
    "effect_size(design='bcra3_2f', rho2=0.10, r21=0.50, r22=0.50, g=1, n=20, J=44, K=5)"
   ]
  },
  {
   "cell_type": "code",
   "execution_count": 3,
   "metadata": {},
   "outputs": [
    {
     "data": {
      "text/plain": [
       "5.0"
      ]
     },
     "execution_count": 3,
     "metadata": {},
     "output_type": "execute_result"
    }
   ],
   "source": [
    "# sample_size, i.e., minimum required samples sizes (MRSS) for level 3 units\n",
    "sample_size(design='bcra3_2f', es=0.10219354337360606, rho2=0.10, r21=0.50, r22=0.50, g=1, n=20, J=44)"
   ]
  },
  {
   "cell_type": "code",
   "execution_count": 4,
   "metadata": {},
   "outputs": [
    {
     "data": {
      "text/plain": [
       "0.8000016066584502"
      ]
     },
     "execution_count": 4,
     "metadata": {},
     "output_type": "execute_result"
    }
   ],
   "source": [
    "# power\n",
    "power(design='bcra3_2f', es=0.10219354337360606, rho2=0.10, r21=0.50, r22=0.50, g=1, n=20, J=44, K=5)"
   ]
  },
  {
   "cell_type": "raw",
   "metadata": {},
   "source": [
    "<table border=\"1\" class=\"docutils\">\n",
    "<colgroup>\n",
    "<col width=\"32%\" />\n",
    "<col width=\"26%\" />\n",
    "<col width=\"26%\" />\n",
    "<col width=\"16%\" />\n",
    "</colgroup>\n",
    "<thead valign=\"bottom\">\n",
    "<tr class=\"row\"><th class=\"head\">Parameters</th>\n",
    "<th class=\"head\"><code class=\"docutils literal notranslate\"><span class=\"pre\">effect_size</span></code></th>\n",
    "<th class=\"head\"><code class=\"docutils literal notranslate\"><span class=\"pre\">sample_size</span></code></th>\n",
    "<th class=\"head\"><code class=\"docutils literal notranslate\"><span class=\"pre\">power</span></code></th>\n",
    "</tr>\n",
    "</thead>\n",
    "<tbody valign=\"top\">\n",
    "<tr class=\"row\"><td><a class=\"hoverxref tooltip reference internal\" data-doc=\"parameters\" data-docpath=\"/parameters.html\" data-project=\"pypowerup\" data-section=\"design\" data-version=\"latest\" href=\"parameters.html#design\"><span class=\"std std-ref\">design</span></a></td>\n",
    "<td>✓</td>\n",
    "<td>✓</td>\n",
    "<td>✓</td>\n",
    "</tr>\n",
    "<tr class=\"row\"><td><a class=\"hoverxref tooltip reference internal\" data-doc=\"parameters\" data-docpath=\"/parameters.html\" data-project=\"pypowerup\" data-section=\"es\" data-version=\"latest\" href=\"parameters.html#es\"><span class=\"std std-ref\">es</span></a></td>\n",
    "<td>&#160;</td>\n",
    "<td>✓</td>\n",
    "<td>✓</td>\n",
    "</tr>\n",
    "<tr class=\"row\"><td><a class=\"hoverxref tooltip reference internal\" data-doc=\"parameters\" data-docpath=\"/parameters.html\" data-project=\"pypowerup\" data-section=\"n\" data-version=\"latest\" href=\"parameters.html#n\"><span class=\"std std-ref\">n</span></a></td>\n",
    "<td>✓</td>\n",
    "<td>✓</td>\n",
    "<td>✓</td>\n",
    "</tr>\n",
    "<tr class=\"row\"><td><a class=\"hoverxref tooltip reference internal\" data-doc=\"parameters\" data-docpath=\"/parameters.html\" data-project=\"pypowerup\" data-section=\"J\" data-version=\"latest\" href=\"parameters.html#J\"><span class=\"std std-ref\">J</span></a></td>\n",
    "<td>✓</td>\n",
    "<td>✓</td>\n",
    "<td>✓</td>\n",
    "</tr>\n",
    "<tr class=\"row\"><td><a class=\"hoverxref tooltip reference internal\" data-doc=\"parameters\" data-docpath=\"/parameters.html\" data-project=\"pypowerup\" data-section=\"K\" data-version=\"latest\" href=\"parameters.html#K\"><span class=\"std std-ref\">K</span></a></td>\n",
    "<td>✓</td>\n",
    "<td>&#160;</td>\n",
    "<td>✓</td>\n",
    "</tr>\n",
    "<tr class=\"row\"><td><a class=\"hoverxref tooltip reference internal\" data-doc=\"parameters\" data-docpath=\"/parameters.html\" data-project=\"pypowerup\" data-section=\"power\" data-version=\"latest\" href=\"parameters.html#power\"><span class=\"std std-ref\">power</span></a></td>\n",
    "<td>✓</td>\n",
    "<td>✓</td>\n",
    "<td>&#160;</td>\n",
    "</tr>\n",
    "<tr class=\"row\"><td><a class=\"hoverxref tooltip reference internal\" data-doc=\"parameters\" data-docpath=\"/parameters.html\" data-project=\"pypowerup\" data-section=\"alpha\" data-version=\"latest\" href=\"parameters.html#alpha\"><span class=\"std std-ref\">alpha</span></a></td>\n",
    "<td>✓</td>\n",
    "<td>✓</td>\n",
    "<td>✓</td>\n",
    "</tr>\n",
    "<tr class=\"row\"><td><a class=\"hoverxref tooltip reference internal\" data-doc=\"parameters\" data-docpath=\"/parameters.html\" data-project=\"pypowerup\" data-section=\"two-tailed\" data-version=\"latest\" href=\"parameters.html#two-tailed\"><span class=\"std std-ref\">two_tailed</span></a></td>\n",
    "<td>✓</td>\n",
    "<td>✓</td>\n",
    "<td>✓</td>\n",
    "</tr>\n",
    "<tr class=\"row\"><td><a class=\"hoverxref tooltip reference internal\" data-doc=\"parameters\" data-docpath=\"/parameters.html\" data-project=\"pypowerup\" data-section=\"p\" data-version=\"latest\" href=\"parameters.html#p\"><span class=\"std std-ref\">p</span></a></td>\n",
    "<td>✓</td>\n",
    "<td>✓</td>\n",
    "<td>✓</td>\n",
    "</tr>\n",
    "<tr class=\"row\"><td><a class=\"hoverxref tooltip reference internal\" data-doc=\"parameters\" data-docpath=\"/parameters.html\" data-project=\"pypowerup\" data-section=\"r21\" data-version=\"latest\" href=\"parameters.html#r21\"><span class=\"std std-ref\">r21</span></a></td>\n",
    "<td>✓</td>\n",
    "<td>✓</td>\n",
    "<td>✓</td>\n",
    "</tr>\n",
    "<tr class=\"row\"><td><a class=\"hoverxref tooltip reference internal\" data-doc=\"parameters\" data-docpath=\"/parameters.html\" data-project=\"pypowerup\" data-section=\"rho2\" data-version=\"latest\" href=\"parameters.html#rho2\"><span class=\"std std-ref\">rho2</span></a></td>\n",
    "<td>✓</td>\n",
    "<td>✓</td>\n",
    "<td>✓</td>\n",
    "</tr>\n",
    "<tr class=\"row\"><td><a class=\"hoverxref tooltip reference internal\" data-doc=\"parameters\" data-docpath=\"/parameters.html\" data-project=\"pypowerup\" data-section=\"r22\" data-version=\"latest\" href=\"parameters.html#r22\"><span class=\"std std-ref\">r22</span></a></td>\n",
    "<td>✓</td>\n",
    "<td>✓</td>\n",
    "<td>✓</td>\n",
    "</tr>\n",
    "<tr class=\"row\"><td><a class=\"hoverxref tooltip reference internal\" data-doc=\"parameters\" data-docpath=\"/parameters.html\" data-project=\"pypowerup\" data-section=\"g\" data-version=\"latest\" href=\"parameters.html#g\"><span class=\"std std-ref\">g</span></a></td>\n",
    "<td>✓</td>\n",
    "<td>✓</td>\n",
    "<td>✓</td>\n",
    "</tr>\n",
    "\n",
    "</tbody>\n",
    "</table>"
   ]
  },
  {
   "cell_type": "markdown",
   "metadata": {},
   "source": [
    "## BCRA3_2r\n",
    "\n",
    "| Assignment | Clustering Level | Treatment Assignment | Treatment Level| Cluster Effect |\n",
    "|:----------:|:----------------:|:--------------------:|:--------------:|:--------------:|\n",
    "| blocked    | 3                | cluster              | 2              | random         |\n",
    "\n"
   ]
  },
  {
   "cell_type": "code",
   "execution_count": 5,
   "metadata": {},
   "outputs": [
    {
     "data": {
      "text/plain": [
       "0.20020041517111645"
      ]
     },
     "execution_count": 5,
     "metadata": {},
     "output_type": "execute_result"
    }
   ],
   "source": [
    "# effect size, i.e., minimum detectable effect sizes (MDES)\n",
    "effect_size(design='bcra3_2r', rho3=0.38, rho2=0.10, omega3=0.50, r21=0.37, \n",
    "            r22=0.53, r2t3=0, g=0, n=20, J=2, K=64)"
   ]
  },
  {
   "cell_type": "code",
   "execution_count": 6,
   "metadata": {},
   "outputs": [
    {
     "data": {
      "text/plain": [
       "64.0"
      ]
     },
     "execution_count": 6,
     "metadata": {},
     "output_type": "execute_result"
    }
   ],
   "source": [
    "# sample_size, i.e., minimum required samples sizes (MRSS) for level 3 units\n",
    "sample_size(design='bcra3_2r', es=0.20020041517111645, rho3=0.38, rho2=0.10, omega3=0.50, r21=0.37, \n",
    "            r22=0.53, r2t3=0, g=0, n=20, J=2)"
   ]
  },
  {
   "cell_type": "code",
   "execution_count": 7,
   "metadata": {},
   "outputs": [
    {
     "data": {
      "text/plain": [
       "0.8000043161361032"
      ]
     },
     "execution_count": 7,
     "metadata": {},
     "output_type": "execute_result"
    }
   ],
   "source": [
    "# power\n",
    "power(design='bcra3_2r', es=0.20020041517111645, rho3=0.38, rho2=0.10, omega3=0.50, r21=0.37, \n",
    "            r22=0.53, r2t3=0, g=0, n=20, J=2, K=64)"
   ]
  },
  {
   "cell_type": "raw",
   "metadata": {},
   "source": [
    "<table border=\"1\" class=\"docutils\">\n",
    "<colgroup>\n",
    "<col width=\"32%\" />\n",
    "<col width=\"26%\" />\n",
    "<col width=\"26%\" />\n",
    "<col width=\"16%\" />\n",
    "</colgroup>\n",
    "<thead valign=\"bottom\">\n",
    "<tr class=\"row\"><th class=\"head\">Parameters</th>\n",
    "<th class=\"head\"><code class=\"docutils literal notranslate\"><span class=\"pre\">effect_size</span></code></th>\n",
    "<th class=\"head\"><code class=\"docutils literal notranslate\"><span class=\"pre\">sample_size</span></code></th>\n",
    "<th class=\"head\"><code class=\"docutils literal notranslate\"><span class=\"pre\">power</span></code></th>\n",
    "</tr>\n",
    "</thead>\n",
    "<tbody valign=\"top\">\n",
    "<tr class=\"row\"><td><a class=\"hoverxref tooltip reference internal\" data-doc=\"parameters\" data-docpath=\"/parameters.html\" data-project=\"pypowerup\" data-section=\"design\" data-version=\"latest\" href=\"parameters.html#design\"><span class=\"std std-ref\">design</span></a></td>\n",
    "<td>✓</td>\n",
    "<td>✓</td>\n",
    "<td>✓</td>\n",
    "</tr>\n",
    "<tr class=\"row\"><td><a class=\"hoverxref tooltip reference internal\" data-doc=\"parameters\" data-docpath=\"/parameters.html\" data-project=\"pypowerup\" data-section=\"es\" data-version=\"latest\" href=\"parameters.html#es\"><span class=\"std std-ref\">es</span></a></td>\n",
    "<td>&#160;</td>\n",
    "<td>✓</td>\n",
    "<td>✓</td>\n",
    "</tr>\n",
    "<tr class=\"row\"><td><a class=\"hoverxref tooltip reference internal\" data-doc=\"parameters\" data-docpath=\"/parameters.html\" data-project=\"pypowerup\" data-section=\"n\" data-version=\"latest\" href=\"parameters.html#n\"><span class=\"std std-ref\">n</span></a></td>\n",
    "<td>✓</td>\n",
    "<td>✓</td>\n",
    "<td>✓</td>\n",
    "</tr>\n",
    "<tr class=\"row\"><td><a class=\"hoverxref tooltip reference internal\" data-doc=\"parameters\" data-docpath=\"/parameters.html\" data-project=\"pypowerup\" data-section=\"J\" data-version=\"latest\" href=\"parameters.html#J\"><span class=\"std std-ref\">J</span></a></td>\n",
    "<td>✓</td>\n",
    "<td>✓</td>\n",
    "<td>✓</td>\n",
    "</tr>\n",
    "<tr class=\"row\"><td><a class=\"hoverxref tooltip reference internal\" data-doc=\"parameters\" data-docpath=\"/parameters.html\" data-project=\"pypowerup\" data-section=\"K\" data-version=\"latest\" href=\"parameters.html#K\"><span class=\"std std-ref\">K</span></a></td>\n",
    "<td>✓</td>\n",
    "<td>&#160;</td>\n",
    "<td>✓</td>\n",
    "</tr>\n",
    "<tr class=\"row\"><td><a class=\"hoverxref tooltip reference internal\" data-doc=\"parameters\" data-docpath=\"/parameters.html\" data-project=\"pypowerup\" data-section=\"power\" data-version=\"latest\" href=\"parameters.html#power\"><span class=\"std std-ref\">power</span></a></td>\n",
    "<td>✓</td>\n",
    "<td>✓</td>\n",
    "<td>&#160;</td>\n",
    "</tr>\n",
    "<tr class=\"row\"><td><a class=\"hoverxref tooltip reference internal\" data-doc=\"parameters\" data-docpath=\"/parameters.html\" data-project=\"pypowerup\" data-section=\"alpha\" data-version=\"latest\" href=\"parameters.html#alpha\"><span class=\"std std-ref\">alpha</span></a></td>\n",
    "<td>✓</td>\n",
    "<td>✓</td>\n",
    "<td>✓</td>\n",
    "</tr>\n",
    "<tr class=\"row\"><td><a class=\"hoverxref tooltip reference internal\" data-doc=\"parameters\" data-docpath=\"/parameters.html\" data-project=\"pypowerup\" data-section=\"two-tailed\" data-version=\"latest\" href=\"parameters.html#two-tailed\"><span class=\"std std-ref\">two_tailed</span></a></td>\n",
    "<td>✓</td>\n",
    "<td>✓</td>\n",
    "<td>✓</td>\n",
    "</tr>\n",
    "<tr class=\"row\"><td><a class=\"hoverxref tooltip reference internal\" data-doc=\"parameters\" data-docpath=\"/parameters.html\" data-project=\"pypowerup\" data-section=\"p\" data-version=\"latest\" href=\"parameters.html#p\"><span class=\"std std-ref\">p</span></a></td>\n",
    "<td>✓</td>\n",
    "<td>✓</td>\n",
    "<td>✓</td>\n",
    "</tr>\n",
    "<tr class=\"row\"><td><a class=\"hoverxref tooltip reference internal\" data-doc=\"parameters\" data-docpath=\"/parameters.html\" data-project=\"pypowerup\" data-section=\"r21\" data-version=\"latest\" href=\"parameters.html#r21\"><span class=\"std std-ref\">r21</span></a></td>\n",
    "<td>✓</td>\n",
    "<td>✓</td>\n",
    "<td>✓</td>\n",
    "</tr>\n",
    "<tr class=\"row\"><td><a class=\"hoverxref tooltip reference internal\" data-doc=\"parameters\" data-docpath=\"/parameters.html\" data-project=\"pypowerup\" data-section=\"rho2\" data-version=\"latest\" href=\"parameters.html#rho2\"><span class=\"std std-ref\">rho2</span></a></td>\n",
    "<td>✓</td>\n",
    "<td>✓</td>\n",
    "<td>✓</td>\n",
    "</tr>\n",
    "<tr class=\"row\"><td><a class=\"hoverxref tooltip reference internal\" data-doc=\"parameters\" data-docpath=\"/parameters.html\" data-project=\"pypowerup\" data-section=\"r22\" data-version=\"latest\" href=\"parameters.html#r22\"><span class=\"std std-ref\">r22</span></a></td>\n",
    "<td>✓</td>\n",
    "<td>✓</td>\n",
    "<td>✓</td>\n",
    "</tr>\n",
    "<tr class=\"row\"><td><a class=\"hoverxref tooltip reference internal\" data-doc=\"parameters\" data-docpath=\"/parameters.html\" data-project=\"pypowerup\" data-section=\"r2t3\" data-version=\"latest\" href=\"parameters.html#r2t3\"><span class=\"std std-ref\">r2t3</span></a></td>\n",
    "<td>✓</td>\n",
    "<td>✓</td>\n",
    "<td>✓</td>\n",
    "</tr>\n",
    "<tr class=\"row\"><td><a class=\"hoverxref tooltip reference internal\" data-doc=\"parameters\" data-docpath=\"/parameters.html\" data-project=\"pypowerup\" data-section=\"rho3\" data-version=\"latest\" href=\"parameters.html#rho3\"><span class=\"std std-ref\">rho3</span></a></td>\n",
    "<td>✓</td>\n",
    "<td>✓</td>\n",
    "<td>✓</td>\n",
    "</tr>\n",
    "<tr class=\"row\"><td><a class=\"hoverxref tooltip reference internal\" data-doc=\"parameters\" data-docpath=\"/parameters.html\" data-project=\"pypowerup\" data-section=\"omega3\" data-version=\"latest\" href=\"parameters.html#omega3\"><span class=\"std std-ref\">omega3</span></a></td>\n",
    "<td>✓</td>\n",
    "<td>✓</td>\n",
    "<td>✓</td>\n",
    "</tr>\n",
    "<tr class=\"row\"><td><a class=\"hoverxref tooltip reference internal\" data-doc=\"parameters\" data-docpath=\"/parameters.html\" data-project=\"pypowerup\" data-section=\"g\" data-version=\"latest\" href=\"parameters.html#g\"><span class=\"std std-ref\">g</span></a></td>\n",
    "<td>✓</td>\n",
    "<td>✓</td>\n",
    "<td>✓</td>\n",
    "</tr>\n",
    "\n",
    "</tbody>\n",
    "</table>"
   ]
  },
  {
   "cell_type": "markdown",
   "metadata": {},
   "source": [
    "## BCRA4_2r\n",
    "\n",
    "| Assignment | Clustering Level | Treatment Assignment | Treatment Level| Cluster Effect |\n",
    "|:----------:|:----------------:|:--------------------:|:--------------:|:--------------:|\n",
    "| blocked    | 4                | cluster              | 2              | random         |\n"
   ]
  },
  {
   "cell_type": "code",
   "execution_count": 8,
   "metadata": {},
   "outputs": [
    {
     "data": {
      "text/plain": [
       "0.14584081061169768"
      ]
     },
     "execution_count": 8,
     "metadata": {},
     "output_type": "execute_result"
    }
   ],
   "source": [
    "# effect size, i.e., minimum detectable effect sizes (MDES)\n",
    "effect_size(design='bcra4_2r', rho4=0.05, rho3=0.15, rho2=0.15, omega4=0.5, omega3=0.5, r21=0.5, r22=0.5, \n",
    "            r2t3=0.5, r2t4=0.5, g=0, n=10, J=4, K=4, L=20)"
   ]
  },
  {
   "cell_type": "code",
   "execution_count": 9,
   "metadata": {},
   "outputs": [
    {
     "data": {
      "text/plain": [
       "20.0"
      ]
     },
     "execution_count": 9,
     "metadata": {},
     "output_type": "execute_result"
    }
   ],
   "source": [
    "# sample_size, i.e., minimum required samples sizes (MRSS) for level 4 units\n",
    "sample_size(design='bcra4_2r', es=0.14584081061169768, rho4=0.05, rho3=0.15, rho2=0.15, omega4=0.5, omega3=0.5, r21=0.5, r22=0.5, \n",
    "            r2t3=0.5, r2t4=0.5, g=0, n=10, J=4, K=4)"
   ]
  },
  {
   "cell_type": "code",
   "execution_count": 10,
   "metadata": {},
   "outputs": [
    {
     "data": {
      "text/plain": [
       "0.8000357933435768"
      ]
     },
     "execution_count": 10,
     "metadata": {},
     "output_type": "execute_result"
    }
   ],
   "source": [
    "# power\n",
    "power(design='bcra4_2r', es=0.14584081061169768, rho4=0.05, rho3=0.15, rho2=0.15, omega4=0.5, omega3=0.5, r21=0.5, r22=0.5, \n",
    "            r2t3=0.5, r2t4=0.5, g=0, n=10, J=4, K=4, L=20)"
   ]
  },
  {
   "cell_type": "raw",
   "metadata": {},
   "source": [
    "<table border=\"1\" class=\"docutils\">\n",
    "<colgroup>\n",
    "<col width=\"32%\" />\n",
    "<col width=\"26%\" />\n",
    "<col width=\"26%\" />\n",
    "<col width=\"16%\" />\n",
    "</colgroup>\n",
    "<thead valign=\"bottom\">\n",
    "<tr class=\"row\"><th class=\"head\">Parameters</th>\n",
    "<th class=\"head\"><code class=\"docutils literal notranslate\"><span class=\"pre\">effect_size</span></code></th>\n",
    "<th class=\"head\"><code class=\"docutils literal notranslate\"><span class=\"pre\">sample_size</span></code></th>\n",
    "<th class=\"head\"><code class=\"docutils literal notranslate\"><span class=\"pre\">power</span></code></th>\n",
    "</tr>\n",
    "</thead>\n",
    "<tbody valign=\"top\">\n",
    "<tr class=\"row\"><td><a class=\"hoverxref tooltip reference internal\" data-doc=\"parameters\" data-docpath=\"/parameters.html\" data-project=\"pypowerup\" data-section=\"design\" data-version=\"latest\" href=\"parameters.html#design\"><span class=\"std std-ref\">design</span></a></td>\n",
    "<td>✓</td>\n",
    "<td>✓</td>\n",
    "<td>✓</td>\n",
    "</tr>\n",
    "<tr class=\"row\"><td><a class=\"hoverxref tooltip reference internal\" data-doc=\"parameters\" data-docpath=\"/parameters.html\" data-project=\"pypowerup\" data-section=\"es\" data-version=\"latest\" href=\"parameters.html#es\"><span class=\"std std-ref\">es</span></a></td>\n",
    "<td>&#160;</td>\n",
    "<td>✓</td>\n",
    "<td>✓</td>\n",
    "</tr>\n",
    "<tr class=\"row\"><td><a class=\"hoverxref tooltip reference internal\" data-doc=\"parameters\" data-docpath=\"/parameters.html\" data-project=\"pypowerup\" data-section=\"n\" data-version=\"latest\" href=\"parameters.html#n\"><span class=\"std std-ref\">n</span></a></td>\n",
    "<td>✓</td>\n",
    "<td>✓</td>\n",
    "<td>✓</td>\n",
    "</tr>\n",
    "<tr class=\"row\"><td><a class=\"hoverxref tooltip reference internal\" data-doc=\"parameters\" data-docpath=\"/parameters.html\" data-project=\"pypowerup\" data-section=\"J\" data-version=\"latest\" href=\"parameters.html#J\"><span class=\"std std-ref\">J</span></a></td>\n",
    "<td>✓</td>\n",
    "<td>✓</td>\n",
    "<td>✓</td>\n",
    "</tr>\n",
    "<tr class=\"row\"><td><a class=\"hoverxref tooltip reference internal\" data-doc=\"parameters\" data-docpath=\"/parameters.html\" data-project=\"pypowerup\" data-section=\"K\" data-version=\"latest\" href=\"parameters.html#K\"><span class=\"std std-ref\">K</span></a></td>\n",
    "<td>✓</td>\n",
    "<td>✓</td>\n",
    "<td>✓</td>\n",
    "</tr>\n",
    "<tr class=\"row\"><td><a class=\"hoverxref tooltip reference internal\" data-doc=\"parameters\" data-docpath=\"/parameters.html\" data-project=\"pypowerup\" data-section=\"L\" data-version=\"latest\" href=\"parameters.html#L\"><span class=\"std std-ref\">L</span></a></td>\n",
    "<td>✓</td>\n",
    "<td>&#160;</td>\n",
    "<td>✓</td>\n",
    "</tr>\n",
    "<tr class=\"row\"><td><a class=\"hoverxref tooltip reference internal\" data-doc=\"parameters\" data-docpath=\"/parameters.html\" data-project=\"pypowerup\" data-section=\"power\" data-version=\"latest\" href=\"parameters.html#power\"><span class=\"std std-ref\">power</span></a></td>\n",
    "<td>✓</td>\n",
    "<td>✓</td>\n",
    "<td>&#160;</td>\n",
    "</tr>\n",
    "<tr class=\"row\"><td><a class=\"hoverxref tooltip reference internal\" data-doc=\"parameters\" data-docpath=\"/parameters.html\" data-project=\"pypowerup\" data-section=\"alpha\" data-version=\"latest\" href=\"parameters.html#alpha\"><span class=\"std std-ref\">alpha</span></a></td>\n",
    "<td>✓</td>\n",
    "<td>✓</td>\n",
    "<td>✓</td>\n",
    "</tr>\n",
    "<tr class=\"row\"><td><a class=\"hoverxref tooltip reference internal\" data-doc=\"parameters\" data-docpath=\"/parameters.html\" data-project=\"pypowerup\" data-section=\"two-tailed\" data-version=\"latest\" href=\"parameters.html#two-tailed\"><span class=\"std std-ref\">two_tailed</span></a></td>\n",
    "<td>✓</td>\n",
    "<td>✓</td>\n",
    "<td>✓</td>\n",
    "</tr>\n",
    "<tr class=\"row\"><td><a class=\"hoverxref tooltip reference internal\" data-doc=\"parameters\" data-docpath=\"/parameters.html\" data-project=\"pypowerup\" data-section=\"p\" data-version=\"latest\" href=\"parameters.html#p\"><span class=\"std std-ref\">p</span></a></td>\n",
    "<td>✓</td>\n",
    "<td>✓</td>\n",
    "<td>✓</td>\n",
    "</tr>\n",
    "<tr class=\"row\"><td><a class=\"hoverxref tooltip reference internal\" data-doc=\"parameters\" data-docpath=\"/parameters.html\" data-project=\"pypowerup\" data-section=\"r21\" data-version=\"latest\" href=\"parameters.html#r21\"><span class=\"std std-ref\">r21</span></a></td>\n",
    "<td>✓</td>\n",
    "<td>✓</td>\n",
    "<td>✓</td>\n",
    "</tr>\n",
    "<tr class=\"row\"><td><a class=\"hoverxref tooltip reference internal\" data-doc=\"parameters\" data-docpath=\"/parameters.html\" data-project=\"pypowerup\" data-section=\"rho2\" data-version=\"latest\" href=\"parameters.html#rho2\"><span class=\"std std-ref\">rho2</span></a></td>\n",
    "<td>✓</td>\n",
    "<td>✓</td>\n",
    "<td>✓</td>\n",
    "</tr>\n",
    "<tr class=\"row\"><td><a class=\"hoverxref tooltip reference internal\" data-doc=\"parameters\" data-docpath=\"/parameters.html\" data-project=\"pypowerup\" data-section=\"r22\" data-version=\"latest\" href=\"parameters.html#r22\"><span class=\"std std-ref\">r22</span></a></td>\n",
    "<td>✓</td>\n",
    "<td>✓</td>\n",
    "<td>✓</td>\n",
    "</tr>\n",
    "<tr class=\"row\"><td><a class=\"hoverxref tooltip reference internal\" data-doc=\"parameters\" data-docpath=\"/parameters.html\" data-project=\"pypowerup\" data-section=\"rho3\" data-version=\"latest\" href=\"parameters.html#rho3\"><span class=\"std std-ref\">rho3</span></a></td>\n",
    "<td>✓</td>\n",
    "<td>✓</td>\n",
    "<td>✓</td>\n",
    "</tr>\n",
    "<tr class=\"row\"><td><a class=\"hoverxref tooltip reference internal\" data-doc=\"parameters\" data-docpath=\"/parameters.html\" data-project=\"pypowerup\" data-section=\"omega3\" data-version=\"latest\" href=\"parameters.html#omega3\"><span class=\"std std-ref\">omega3</span></a></td>\n",
    "<td>✓</td>\n",
    "<td>✓</td>\n",
    "<td>✓</td>\n",
    "</tr>\n",
    "<tr class=\"row\"><td><a class=\"hoverxref tooltip reference internal\" data-doc=\"parameters\" data-docpath=\"/parameters.html\" data-project=\"pypowerup\" data-section=\"r2t3\" data-version=\"latest\" href=\"parameters.html#r2t3\"><span class=\"std std-ref\">r2t3</span></a></td>\n",
    "<td>✓</td>\n",
    "<td>✓</td>\n",
    "<td>✓</td>\n",
    "</tr>\n",
    "<tr class=\"row\"><td><a class=\"hoverxref tooltip reference internal\" data-doc=\"parameters\" data-docpath=\"/parameters.html\" data-project=\"pypowerup\" data-section=\"rho4\" data-version=\"latest\" href=\"parameters.html#rho4\"><span class=\"std std-ref\">rho4</span></a></td>\n",
    "<td>✓</td>\n",
    "<td>✓</td>\n",
    "<td>✓</td>\n",
    "</tr>\n",
    "<tr class=\"row\"><td><a class=\"hoverxref tooltip reference internal\" data-doc=\"parameters\" data-docpath=\"/parameters.html\" data-project=\"pypowerup\" data-section=\"omega4\" data-version=\"latest\" href=\"parameters.html#omega4\"><span class=\"std std-ref\">omega4</span></a></td>\n",
    "<td>✓</td>\n",
    "<td>✓</td>\n",
    "<td>✓</td>\n",
    "</tr>\n",
    "<tr class=\"row\"><td><a class=\"hoverxref tooltip reference internal\" data-doc=\"parameters\" data-docpath=\"/parameters.html\" data-project=\"pypowerup\" data-section=\"r2t4\" data-version=\"latest\" href=\"parameters.html#r2t4\"><span class=\"std std-ref\">r2t4</span></a></td>\n",
    "<td>✓</td>\n",
    "<td>✓</td>\n",
    "<td>✓</td>\n",
    "</tr>\n",
    "<tr class=\"row\"><td><a class=\"hoverxref tooltip reference internal\" data-doc=\"parameters\" data-docpath=\"/parameters.html\" data-project=\"pypowerup\" data-section=\"g\" data-version=\"latest\" href=\"parameters.html#g\"><span class=\"std std-ref\">g</span></a></td>\n",
    "<td>✓</td>\n",
    "<td>✓</td>\n",
    "<td>✓</td>\n",
    "</tr>\n",
    "\n",
    "</tbody>\n",
    "</table>"
   ]
  },
  {
   "cell_type": "markdown",
   "metadata": {},
   "source": [
    "## BCRA4_3f\n",
    "\n",
    "| Assignment | Clustering Level | Treatment Assignment | Treatment Level| Cluster Effect |\n",
    "|:----------:|:----------------:|:--------------------:|:--------------:|:--------------:|\n",
    "| blocked    | 4                | cluster              | 3              | fixed          |\n",
    "\n"
   ]
  },
  {
   "cell_type": "code",
   "execution_count": 11,
   "metadata": {},
   "outputs": [
    {
     "data": {
      "text/plain": [
       "0.2399780453218905"
      ]
     },
     "execution_count": 11,
     "metadata": {},
     "output_type": "execute_result"
    }
   ],
   "source": [
    "# effect size, i.e., minimum detectable effect sizes (MDES)\n",
    "effect_size(design='bcra4_3f', rho3=0.15, rho2=0.15, r21=0.5, r22=0.5,\n",
    "            r23=0.5, g=2, n=10, J=4, K=4, L=15)"
   ]
  },
  {
   "cell_type": "code",
   "execution_count": 12,
   "metadata": {},
   "outputs": [
    {
     "data": {
      "text/plain": [
       "15.0"
      ]
     },
     "execution_count": 12,
     "metadata": {},
     "output_type": "execute_result"
    }
   ],
   "source": [
    "# sample_size, i.e., minimum required samples sizes (MRSS) for level 4 units\n",
    "sample_size(design='bcra4_3f', es=0.2399780453218905, rho3=0.15, rho2=0.15, r21=0.5, r22=0.5, \n",
    "            r23=0.5, g=2, n=10, J=4, K=4)"
   ]
  },
  {
   "cell_type": "code",
   "execution_count": 13,
   "metadata": {},
   "outputs": [
    {
     "data": {
      "text/plain": [
       "0.8000158353898167"
      ]
     },
     "execution_count": 13,
     "metadata": {},
     "output_type": "execute_result"
    }
   ],
   "source": [
    "# power\n",
    "power(design='bcra4_3f', es=0.2399780453218905, rho3=0.15, rho2=0.15, r21=0.5, r22=0.5, \n",
    "            r23=0.5, g=2, n=10, J=4, K=4, L=15)"
   ]
  },
  {
   "cell_type": "raw",
   "metadata": {},
   "source": [
    "<table border=\"1\" class=\"docutils\">\n",
    "<colgroup>\n",
    "<col width=\"32%\" />\n",
    "<col width=\"26%\" />\n",
    "<col width=\"26%\" />\n",
    "<col width=\"16%\" />\n",
    "</colgroup>\n",
    "<thead valign=\"bottom\">\n",
    "<tr class=\"row\"><th class=\"head\">Parameters</th>\n",
    "<th class=\"head\"><code class=\"docutils literal notranslate\"><span class=\"pre\">effect_size</span></code></th>\n",
    "<th class=\"head\"><code class=\"docutils literal notranslate\"><span class=\"pre\">sample_size</span></code></th>\n",
    "<th class=\"head\"><code class=\"docutils literal notranslate\"><span class=\"pre\">power</span></code></th>\n",
    "</tr>\n",
    "</thead>\n",
    "<tbody valign=\"top\">\n",
    "<tr class=\"row\"><td><a class=\"hoverxref tooltip reference internal\" data-doc=\"parameters\" data-docpath=\"/parameters.html\" data-project=\"pypowerup\" data-section=\"design\" data-version=\"latest\" href=\"parameters.html#design\"><span class=\"std std-ref\">design</span></a></td>\n",
    "<td>✓</td>\n",
    "<td>✓</td>\n",
    "<td>✓</td>\n",
    "</tr>\n",
    "<tr class=\"row\"><td><a class=\"hoverxref tooltip reference internal\" data-doc=\"parameters\" data-docpath=\"/parameters.html\" data-project=\"pypowerup\" data-section=\"es\" data-version=\"latest\" href=\"parameters.html#es\"><span class=\"std std-ref\">es</span></a></td>\n",
    "<td>&#160;</td>\n",
    "<td>✓</td>\n",
    "<td>✓</td>\n",
    "</tr>\n",
    "<tr class=\"row\"><td><a class=\"hoverxref tooltip reference internal\" data-doc=\"parameters\" data-docpath=\"/parameters.html\" data-project=\"pypowerup\" data-section=\"n\" data-version=\"latest\" href=\"parameters.html#n\"><span class=\"std std-ref\">n</span></a></td>\n",
    "<td>✓</td>\n",
    "<td>✓</td>\n",
    "<td>✓</td>\n",
    "</tr>\n",
    "<tr class=\"row\"><td><a class=\"hoverxref tooltip reference internal\" data-doc=\"parameters\" data-docpath=\"/parameters.html\" data-project=\"pypowerup\" data-section=\"J\" data-version=\"latest\" href=\"parameters.html#J\"><span class=\"std std-ref\">J</span></a></td>\n",
    "<td>✓</td>\n",
    "<td>✓</td>\n",
    "<td>✓</td>\n",
    "</tr>\n",
    "<tr class=\"row\"><td><a class=\"hoverxref tooltip reference internal\" data-doc=\"parameters\" data-docpath=\"/parameters.html\" data-project=\"pypowerup\" data-section=\"K\" data-version=\"latest\" href=\"parameters.html#K\"><span class=\"std std-ref\">K</span></a></td>\n",
    "<td>✓</td>\n",
    "<td>✓</td>\n",
    "<td>✓</td>\n",
    "</tr>\n",
    "<tr class=\"row\"><td><a class=\"hoverxref tooltip reference internal\" data-doc=\"parameters\" data-docpath=\"/parameters.html\" data-project=\"pypowerup\" data-section=\"L\" data-version=\"latest\" href=\"parameters.html#L\"><span class=\"std std-ref\">L</span></a></td>\n",
    "<td>✓</td>\n",
    "<td>&#160;</td>\n",
    "<td>✓</td>\n",
    "</tr>\n",
    "<tr class=\"row\"><td><a class=\"hoverxref tooltip reference internal\" data-doc=\"parameters\" data-docpath=\"/parameters.html\" data-project=\"pypowerup\" data-section=\"power\" data-version=\"latest\" href=\"parameters.html#power\"><span class=\"std std-ref\">power</span></a></td>\n",
    "<td>✓</td>\n",
    "<td>✓</td>\n",
    "<td>&#160;</td>\n",
    "</tr>\n",
    "<tr class=\"row\"><td><a class=\"hoverxref tooltip reference internal\" data-doc=\"parameters\" data-docpath=\"/parameters.html\" data-project=\"pypowerup\" data-section=\"alpha\" data-version=\"latest\" href=\"parameters.html#alpha\"><span class=\"std std-ref\">alpha</span></a></td>\n",
    "<td>✓</td>\n",
    "<td>✓</td>\n",
    "<td>✓</td>\n",
    "</tr>\n",
    "<tr class=\"row\"><td><a class=\"hoverxref tooltip reference internal\" data-doc=\"parameters\" data-docpath=\"/parameters.html\" data-project=\"pypowerup\" data-section=\"two-tailed\" data-version=\"latest\" href=\"parameters.html#two-tailed\"><span class=\"std std-ref\">two_tailed</span></a></td>\n",
    "<td>✓</td>\n",
    "<td>✓</td>\n",
    "<td>✓</td>\n",
    "</tr>\n",
    "<tr class=\"row\"><td><a class=\"hoverxref tooltip reference internal\" data-doc=\"parameters\" data-docpath=\"/parameters.html\" data-project=\"pypowerup\" data-section=\"p\" data-version=\"latest\" href=\"parameters.html#p\"><span class=\"std std-ref\">p</span></a></td>\n",
    "<td>✓</td>\n",
    "<td>✓</td>\n",
    "<td>✓</td>\n",
    "</tr>\n",
    "<tr class=\"row\"><td><a class=\"hoverxref tooltip reference internal\" data-doc=\"parameters\" data-docpath=\"/parameters.html\" data-project=\"pypowerup\" data-section=\"r21\" data-version=\"latest\" href=\"parameters.html#r21\"><span class=\"std std-ref\">r21</span></a></td>\n",
    "<td>✓</td>\n",
    "<td>✓</td>\n",
    "<td>✓</td>\n",
    "</tr>\n",
    "<tr class=\"row\"><td><a class=\"hoverxref tooltip reference internal\" data-doc=\"parameters\" data-docpath=\"/parameters.html\" data-project=\"pypowerup\" data-section=\"rho2\" data-version=\"latest\" href=\"parameters.html#rho2\"><span class=\"std std-ref\">rho2</span></a></td>\n",
    "<td>✓</td>\n",
    "<td>✓</td>\n",
    "<td>✓</td>\n",
    "</tr>\n",
    "<tr class=\"row\"><td><a class=\"hoverxref tooltip reference internal\" data-doc=\"parameters\" data-docpath=\"/parameters.html\" data-project=\"pypowerup\" data-section=\"r22\" data-version=\"latest\" href=\"parameters.html#r22\"><span class=\"std std-ref\">r22</span></a></td>\n",
    "<td>✓</td>\n",
    "<td>✓</td>\n",
    "<td>✓</td>\n",
    "</tr>\n",
    "<tr class=\"row\"><td><a class=\"hoverxref tooltip reference internal\" data-doc=\"parameters\" data-docpath=\"/parameters.html\" data-project=\"pypowerup\" data-section=\"rho3\" data-version=\"latest\" href=\"parameters.html#rho3\"><span class=\"std std-ref\">rho3</span></a></td>\n",
    "<td>✓</td>\n",
    "<td>✓</td>\n",
    "<td>✓</td>\n",
    "</tr>\n",
    "<tr class=\"row\"><td><a class=\"hoverxref tooltip reference internal\" data-doc=\"parameters\" data-docpath=\"/parameters.html\" data-project=\"pypowerup\" data-section=\"r23\" data-version=\"latest\" href=\"parameters.html#r23\"><span class=\"std std-ref\">r23</span></a></td>\n",
    "<td>✓</td>\n",
    "<td>✓</td>\n",
    "<td>✓</td>\n",
    "</tr>\n",
    "<tr class=\"row\"><td><a class=\"hoverxref tooltip reference internal\" data-doc=\"parameters\" data-docpath=\"/parameters.html\" data-project=\"pypowerup\" data-section=\"g\" data-version=\"latest\" href=\"parameters.html#g\"><span class=\"std std-ref\">g</span></a></td>\n",
    "<td>✓</td>\n",
    "<td>✓</td>\n",
    "<td>✓</td>\n",
    "</tr>\n",
    "\n",
    "</tbody>\n",
    "</table>"
   ]
  },
  {
   "cell_type": "markdown",
   "metadata": {},
   "source": [
    "## BCRA4_3r\n",
    "\n",
    "| Assignment | Clustering Level | Treatment Assignment | Treatment Level| Cluster Effect |\n",
    "|:----------:|:----------------:|:--------------------:|:--------------:|:--------------:|\n",
    "| blocked    | 4                | cluster              | 3              | random         |\n"
   ]
  },
  {
   "cell_type": "code",
   "execution_count": 14,
   "metadata": {},
   "outputs": [
    {
     "data": {
      "text/plain": [
       "0.12100407246925271"
      ]
     },
     "execution_count": 14,
     "metadata": {},
     "output_type": "execute_result"
    }
   ],
   "source": [
    "# effect size, i.e., minimum detectable effect sizes (MDES)\n",
    "effect_size(design='bcra4_3r', rho4=0.05, rho3=0.15, rho2=0.15, omega4=0.5, \n",
    "            r21=0.5, r22=0.5, r23=0.5, r2t4=0.5, g=3, n=10, J=4, K=20, L=20)"
   ]
  },
  {
   "cell_type": "code",
   "execution_count": 15,
   "metadata": {},
   "outputs": [
    {
     "data": {
      "text/plain": [
       "20.0"
      ]
     },
     "execution_count": 15,
     "metadata": {},
     "output_type": "execute_result"
    }
   ],
   "source": [
    "# sample_size, i.e., minimum required samples sizes (MRSS) for level 4 units\n",
    "sample_size(design='bcra4_3r', es=0.12100407246925271, rho4=0.05, rho3=0.15, rho2=0.15, omega4=0.5, \n",
    "            r21=0.5, r22=0.5, r23=0.5, r2t4=0.5, g=3, n=10, J=4, K=20)"
   ]
  },
  {
   "cell_type": "code",
   "execution_count": 16,
   "metadata": {},
   "outputs": [
    {
     "data": {
      "text/plain": [
       "0.800053034680572"
      ]
     },
     "execution_count": 16,
     "metadata": {},
     "output_type": "execute_result"
    }
   ],
   "source": [
    "# power\n",
    "power(design='bcra4_3r', es=0.12100407246925271, rho4=0.05, rho3=0.15, rho2=0.15, omega4=0.5, \n",
    "            r21=0.5, r22=0.5, r23=0.5, r2t4=0.5, g=3, n=10, J=4, K=20, L=20)"
   ]
  },
  {
   "cell_type": "raw",
   "metadata": {},
   "source": [
    "<table border=\"1\" class=\"docutils\">\n",
    "<colgroup>\n",
    "<col width=\"32%\" />\n",
    "<col width=\"26%\" />\n",
    "<col width=\"26%\" />\n",
    "<col width=\"16%\" />\n",
    "</colgroup>\n",
    "<thead valign=\"bottom\">\n",
    "<tr class=\"row\"><th class=\"head\">Parameters</th>\n",
    "<th class=\"head\"><code class=\"docutils literal notranslate\"><span class=\"pre\">effect_size</span></code></th>\n",
    "<th class=\"head\"><code class=\"docutils literal notranslate\"><span class=\"pre\">sample_size</span></code></th>\n",
    "<th class=\"head\"><code class=\"docutils literal notranslate\"><span class=\"pre\">power</span></code></th>\n",
    "</tr>\n",
    "</thead>\n",
    "<tbody valign=\"top\">\n",
    "<tr class=\"row\"><td><a class=\"hoverxref tooltip reference internal\" data-doc=\"parameters\" data-docpath=\"/parameters.html\" data-project=\"pypowerup\" data-section=\"design\" data-version=\"latest\" href=\"parameters.html#design\"><span class=\"std std-ref\">design</span></a></td>\n",
    "<td>✓</td>\n",
    "<td>✓</td>\n",
    "<td>✓</td>\n",
    "</tr>\n",
    "<tr class=\"row\"><td><a class=\"hoverxref tooltip reference internal\" data-doc=\"parameters\" data-docpath=\"/parameters.html\" data-project=\"pypowerup\" data-section=\"es\" data-version=\"latest\" href=\"parameters.html#es\"><span class=\"std std-ref\">es</span></a></td>\n",
    "<td>&#160;</td>\n",
    "<td>✓</td>\n",
    "<td>✓</td>\n",
    "</tr>\n",
    "<tr class=\"row\"><td><a class=\"hoverxref tooltip reference internal\" data-doc=\"parameters\" data-docpath=\"/parameters.html\" data-project=\"pypowerup\" data-section=\"n\" data-version=\"latest\" href=\"parameters.html#n\"><span class=\"std std-ref\">n</span></a></td>\n",
    "<td>✓</td>\n",
    "<td>✓</td>\n",
    "<td>✓</td>\n",
    "</tr>\n",
    "<tr class=\"row\"><td><a class=\"hoverxref tooltip reference internal\" data-doc=\"parameters\" data-docpath=\"/parameters.html\" data-project=\"pypowerup\" data-section=\"J\" data-version=\"latest\" href=\"parameters.html#J\"><span class=\"std std-ref\">J</span></a></td>\n",
    "<td>✓</td>\n",
    "<td>✓</td>\n",
    "<td>✓</td>\n",
    "</tr>\n",
    "<tr class=\"row\"><td><a class=\"hoverxref tooltip reference internal\" data-doc=\"parameters\" data-docpath=\"/parameters.html\" data-project=\"pypowerup\" data-section=\"K\" data-version=\"latest\" href=\"parameters.html#K\"><span class=\"std std-ref\">K</span></a></td>\n",
    "<td>✓</td>\n",
    "<td>✓</td>\n",
    "<td>✓</td>\n",
    "</tr>\n",
    "<tr class=\"row\"><td><a class=\"hoverxref tooltip reference internal\" data-doc=\"parameters\" data-docpath=\"/parameters.html\" data-project=\"pypowerup\" data-section=\"L\" data-version=\"latest\" href=\"parameters.html#L\"><span class=\"std std-ref\">L</span></a></td>\n",
    "<td>✓</td>\n",
    "<td>&#160;</td>\n",
    "<td>✓</td>\n",
    "</tr>\n",
    "<tr class=\"row\"><td><a class=\"hoverxref tooltip reference internal\" data-doc=\"parameters\" data-docpath=\"/parameters.html\" data-project=\"pypowerup\" data-section=\"power\" data-version=\"latest\" href=\"parameters.html#power\"><span class=\"std std-ref\">power</span></a></td>\n",
    "<td>✓</td>\n",
    "<td>✓</td>\n",
    "<td>&#160;</td>\n",
    "</tr>\n",
    "<tr class=\"row\"><td><a class=\"hoverxref tooltip reference internal\" data-doc=\"parameters\" data-docpath=\"/parameters.html\" data-project=\"pypowerup\" data-section=\"alpha\" data-version=\"latest\" href=\"parameters.html#alpha\"><span class=\"std std-ref\">alpha</span></a></td>\n",
    "<td>✓</td>\n",
    "<td>✓</td>\n",
    "<td>✓</td>\n",
    "</tr>\n",
    "<tr class=\"row\"><td><a class=\"hoverxref tooltip reference internal\" data-doc=\"parameters\" data-docpath=\"/parameters.html\" data-project=\"pypowerup\" data-section=\"two-tailed\" data-version=\"latest\" href=\"parameters.html#two-tailed\"><span class=\"std std-ref\">two_tailed</span></a></td>\n",
    "<td>✓</td>\n",
    "<td>✓</td>\n",
    "<td>✓</td>\n",
    "</tr>\n",
    "<tr class=\"row\"><td><a class=\"hoverxref tooltip reference internal\" data-doc=\"parameters\" data-docpath=\"/parameters.html\" data-project=\"pypowerup\" data-section=\"p\" data-version=\"latest\" href=\"parameters.html#p\"><span class=\"std std-ref\">p</span></a></td>\n",
    "<td>✓</td>\n",
    "<td>✓</td>\n",
    "<td>✓</td>\n",
    "</tr>\n",
    "<tr class=\"row\"><td><a class=\"hoverxref tooltip reference internal\" data-doc=\"parameters\" data-docpath=\"/parameters.html\" data-project=\"pypowerup\" data-section=\"r21\" data-version=\"latest\" href=\"parameters.html#r21\"><span class=\"std std-ref\">r21</span></a></td>\n",
    "<td>✓</td>\n",
    "<td>✓</td>\n",
    "<td>✓</td>\n",
    "</tr>\n",
    "<tr class=\"row\"><td><a class=\"hoverxref tooltip reference internal\" data-doc=\"parameters\" data-docpath=\"/parameters.html\" data-project=\"pypowerup\" data-section=\"rho2\" data-version=\"latest\" href=\"parameters.html#rho2\"><span class=\"std std-ref\">rho2</span></a></td>\n",
    "<td>✓</td>\n",
    "<td>✓</td>\n",
    "<td>✓</td>\n",
    "</tr>\n",
    "<tr class=\"row\"><td><a class=\"hoverxref tooltip reference internal\" data-doc=\"parameters\" data-docpath=\"/parameters.html\" data-project=\"pypowerup\" data-section=\"r22\" data-version=\"latest\" href=\"parameters.html#r22\"><span class=\"std std-ref\">r22</span></a></td>\n",
    "<td>✓</td>\n",
    "<td>✓</td>\n",
    "<td>✓</td>\n",
    "</tr>\n",
    "<tr class=\"row\"><td><a class=\"hoverxref tooltip reference internal\" data-doc=\"parameters\" data-docpath=\"/parameters.html\" data-project=\"pypowerup\" data-section=\"rho3\" data-version=\"latest\" href=\"parameters.html#rho3\"><span class=\"std std-ref\">rho3</span></a></td>\n",
    "<td>✓</td>\n",
    "<td>✓</td>\n",
    "<td>✓</td>\n",
    "</tr>\n",
    "<tr class=\"row\"><td><a class=\"hoverxref tooltip reference internal\" data-doc=\"parameters\" data-docpath=\"/parameters.html\" data-project=\"pypowerup\" data-section=\"r23\" data-version=\"latest\" href=\"parameters.html#r23\"><span class=\"std std-ref\">r23</span></a></td>\n",
    "<td>✓</td>\n",
    "<td>✓</td>\n",
    "<td>✓</td>\n",
    "</tr>\n",
    "<tr class=\"row\"><td><a class=\"hoverxref tooltip reference internal\" data-doc=\"parameters\" data-docpath=\"/parameters.html\" data-project=\"pypowerup\" data-section=\"rho4\" data-version=\"latest\" href=\"parameters.html#rho4\"><span class=\"std std-ref\">rho4</span></a></td>\n",
    "<td>✓</td>\n",
    "<td>✓</td>\n",
    "<td>✓</td>\n",
    "</tr>\n",
    "<tr class=\"row\"><td><a class=\"hoverxref tooltip reference internal\" data-doc=\"parameters\" data-docpath=\"/parameters.html\" data-project=\"pypowerup\" data-section=\"omega4\" data-version=\"latest\" href=\"parameters.html#omega4\"><span class=\"std std-ref\">omega4</span></a></td>\n",
    "<td>✓</td>\n",
    "<td>✓</td>\n",
    "<td>✓</td>\n",
    "</tr>\n",
    "<tr class=\"row\"><td><a class=\"hoverxref tooltip reference internal\" data-doc=\"parameters\" data-docpath=\"/parameters.html\" data-project=\"pypowerup\" data-section=\"r2t4\" data-version=\"latest\" href=\"parameters.html#r2t4\"><span class=\"std std-ref\">r2t4</span></a></td>\n",
    "<td>✓</td>\n",
    "<td>✓</td>\n",
    "<td>✓</td>\n",
    "</tr>\n",
    "<tr class=\"row\"><td><a class=\"hoverxref tooltip reference internal\" data-doc=\"parameters\" data-docpath=\"/parameters.html\" data-project=\"pypowerup\" data-section=\"g\" data-version=\"latest\" href=\"parameters.html#g\"><span class=\"std std-ref\">g</span></a></td>\n",
    "<td>✓</td>\n",
    "<td>✓</td>\n",
    "<td>✓</td>\n",
    "</tr>\n",
    "\n",
    "</tbody>\n",
    "</table>"
   ]
  }
 ],
 "metadata": {
  "kernelspec": {
   "display_name": "Python 3",
   "language": "python",
   "name": "python3"
  },
  "language_info": {
   "codemirror_mode": {
    "name": "ipython",
    "version": 3
   },
   "file_extension": ".py",
   "mimetype": "text/x-python",
   "name": "python",
   "nbconvert_exporter": "python",
   "pygments_lexer": "ipython3",
   "version": "3.7.7"
  }
 },
 "nbformat": 4,
 "nbformat_minor": 4
}
