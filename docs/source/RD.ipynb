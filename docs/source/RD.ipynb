{
 "cells": [
  {
   "cell_type": "markdown",
   "metadata": {},
   "source": [
    "# Regression Discontinuity (RD)\n",
    "\n",
    "\n",
    "## RD2_1f\n",
    "\n",
    "| Assignment | Clustering Level | Treatment Assignment | Treatment Level| Cluster Effect |\n",
    "|:----------:|:----------------:|:--------------------:|:--------------:|:--------------:|\n",
    "| blocked    | 2                | individual           | 1              | fixed          |\n"
   ]
  },
  {
   "cell_type": "code",
   "execution_count": 1,
   "metadata": {},
   "outputs": [],
   "source": [
    "from pypowerup import effect_size, sample_size, power"
   ]
  },
  {
   "cell_type": "code",
   "execution_count": 2,
   "metadata": {},
   "outputs": [
    {
     "data": {
      "text/plain": [
       "0.19828457764454652"
      ]
     },
     "execution_count": 2,
     "metadata": {},
     "output_type": "execute_result"
    }
   ],
   "source": [
    "# effect size, i.e., minimum detectable effect sizes (MDES)\n",
    "effect_size(design = \"rd2_1f\", n=55, J=20, r21=0.5, g=1, design_effect=2.75)"
   ]
  },
  {
   "cell_type": "code",
   "execution_count": 3,
   "metadata": {},
   "outputs": [
    {
     "data": {
      "text/plain": [
       "20.0"
      ]
     },
     "execution_count": 3,
     "metadata": {},
     "output_type": "execute_result"
    }
   ],
   "source": [
    "# sample_size, i.e., minimum required samples sizes (MRSS) for level 2 units\n",
    "sample_size(design = \"rd2_1f\", es=0.19828457764454652, n=55, r21=0.5, g=1, design_effect=2.75)"
   ]
  },
  {
   "cell_type": "code",
   "execution_count": 4,
   "metadata": {},
   "outputs": [
    {
     "data": {
      "text/plain": [
       "0.8000010686602212"
      ]
     },
     "execution_count": 4,
     "metadata": {},
     "output_type": "execute_result"
    }
   ],
   "source": [
    "# power\n",
    "power(design = \"rd2_1f\", es=0.19828457764454652, n=55, r21=0.5, J=20, g=1, design_effect=2.75)"
   ]
  },
  {
   "cell_type": "raw",
   "metadata": {},
   "source": [
    "<table border=\"1\" class=\"docutils\">\n",
    "<colgroup>\n",
    "<col width=\"32%\" />\n",
    "<col width=\"26%\" />\n",
    "<col width=\"26%\" />\n",
    "<col width=\"16%\" />\n",
    "</colgroup>\n",
    "<thead valign=\"bottom\">\n",
    "<tr class=\"row-odd\"><th class=\"head\">Parameters</th>\n",
    "<th class=\"head\"><code class=\"docutils literal notranslate\"><span class=\"pre\">effect_size</span></code></th>\n",
    "<th class=\"head\"><code class=\"docutils literal notranslate\"><span class=\"pre\">sample_size</span></code></th>\n",
    "<th class=\"head\"><code class=\"docutils literal notranslate\"><span class=\"pre\">power</span></code></th>\n",
    "</tr>\n",
    "</thead>\n",
    "<tbody valign=\"top\">\n",
    "<tr class=\"row-even\"><td><a class=\"hoverxref tooltip reference internal\" data-doc=\"parameters\" data-docpath=\"/parameters.html\" data-project=\"pypowerup\" data-section=\"design\" data-version=\"latest\" href=\"parameters.html#design\"><span class=\"std std-ref\">design</span></a></td>\n",
    "<td>✓</td>\n",
    "<td>✓</td>\n",
    "<td>✓</td>\n",
    "</tr>\n",
    "<tr class=\"row-odd\"><td><a class=\"hoverxref tooltip reference internal\" data-doc=\"parameters\" data-docpath=\"/parameters.html\" data-project=\"pypowerup\" data-section=\"es\" data-version=\"latest\" href=\"parameters.html#es\"><span class=\"std std-ref\">es</span></a></td>\n",
    "<td>&#160;</td>\n",
    "<td>✓</td>\n",
    "<td>✓</td>\n",
    "</tr>\n",
    "<tr class=\"row-odd\"><td><a class=\"hoverxref tooltip reference internal\" data-doc=\"parameters\" data-docpath=\"/parameters.html\" data-project=\"pypowerup\" data-section=\"n\" data-version=\"latest\" href=\"parameters.html#n\"><span class=\"std std-ref\">n</span></a></td>\n",
    "<td>✓</td>\n",
    "<td>✓</td>\n",
    "<td>✓</td>\n",
    "</tr>\n",
    "<tr class=\"row-odd\"><td><a class=\"hoverxref tooltip reference internal\" data-doc=\"parameters\" data-docpath=\"/parameters.html\" data-project=\"pypowerup\" data-section=\"J\" data-version=\"latest\" href=\"parameters.html#J\"><span class=\"std std-ref\">J</span></a></td>\n",
    "<td>✓</td>\n",
    "<td>&#160;</td>\n",
    "<td>✓</td>\n",
    "</tr>\n",
    "<tr class=\"row-odd\"><td><a class=\"hoverxref tooltip reference internal\" data-doc=\"parameters\" data-docpath=\"/parameters.html\" data-project=\"pypowerup\" data-section=\"power\" data-version=\"latest\" href=\"parameters.html#power\"><span class=\"std std-ref\">power</span></a></td>\n",
    "<td>✓</td>\n",
    "<td>✓</td>\n",
    "<td>&#160;</td>\n",
    "</tr>\n",
    "<tr class=\"row-odd\"><td><a class=\"hoverxref tooltip reference internal\" data-doc=\"parameters\" data-docpath=\"/parameters.html\" data-project=\"pypowerup\" data-section=\"alpha\" data-version=\"latest\" href=\"parameters.html#alpha\"><span class=\"std std-ref\">alpha</span></a></td>\n",
    "<td>✓</td>\n",
    "<td>✓</td>\n",
    "<td>✓</td>\n",
    "</tr>\n",
    "<tr class=\"row-even\"><td><a class=\"hoverxref tooltip reference internal\" data-doc=\"parameters\" data-docpath=\"/parameters.html\" data-project=\"pypowerup\" data-section=\"two-tailed\" data-version=\"latest\" href=\"parameters.html#two-tailed\"><span class=\"std std-ref\">two_tailed</span></a></td>\n",
    "<td>✓</td>\n",
    "<td>✓</td>\n",
    "<td>✓</td>\n",
    "</tr>\n",
    "<tr class=\"row-odd\"><td><a class=\"hoverxref tooltip reference internal\" data-doc=\"parameters\" data-docpath=\"/parameters.html\" data-project=\"pypowerup\" data-section=\"p\" data-version=\"latest\" href=\"parameters.html#p\"><span class=\"std std-ref\">p</span></a></td>\n",
    "<td>✓</td>\n",
    "<td>✓</td>\n",
    "<td>✓</td>\n",
    "</tr>\n",
    "<tr class=\"row-even\"><td><a class=\"hoverxref tooltip reference internal\" data-doc=\"parameters\" data-docpath=\"/parameters.html\" data-project=\"pypowerup\" data-section=\"r21\" data-version=\"latest\" href=\"parameters.html#r21\"><span class=\"std std-ref\">r21</span></a></td>\n",
    "<td>✓</td>\n",
    "<td>✓</td>\n",
    "<td>✓</td>\n",
    "</tr>\n",
    "<tr class=\"row-odd\"><td><a class=\"hoverxref tooltip reference internal\" data-doc=\"parameters\" data-docpath=\"/parameters.html\" data-project=\"pypowerup\" data-section=\"g\" data-version=\"latest\" href=\"parameters.html#g\"><span class=\"std std-ref\">g</span></a></td>\n",
    "<td>✓</td>\n",
    "<td>✓</td>\n",
    "<td>✓</td>\n",
    "</tr>\n",
    "<tr class=\"row-odd\"><td><a class=\"hoverxref tooltip reference internal\" data-doc=\"parameters\" data-docpath=\"/parameters.html\" data-project=\"pypowerup\" data-section=\"design_effect\" data-version=\"latest\" href=\"parameters.html#design_effect\"><span class=\"std std-ref\">design_effect</span></a></td>\n",
    "<td>✓</td>\n",
    "<td>✓</td>\n",
    "<td>✓</td>\n",
    "</tr>\n",
    "</tbody>\n",
    "</table>"
   ]
  },
  {
   "cell_type": "markdown",
   "metadata": {},
   "source": [
    "## RD2_1r\n",
    "\n",
    "| Assignment | Clustering Level | Treatment Assignment | Treatment Level| Cluster Effect |\n",
    "|:----------:|:----------------:|:--------------------:|:--------------:|:--------------:|\n",
    "| blocked    | 2                | individual           | 1              | random         |\n"
   ]
  },
  {
   "cell_type": "code",
   "execution_count": 5,
   "metadata": {},
   "outputs": [
    {
     "data": {
      "text/plain": [
       "0.15782962225367275"
      ]
     },
     "execution_count": 5,
     "metadata": {},
     "output_type": "execute_result"
    }
   ],
   "source": [
    "# effect size, i.e., minimum detectable effect sizes (MDES)\n",
    "effect_size(design = \"rd2_1r\", n=50, J=40, r21=0.5, g=1, r2t2=0.1, omega2=0.2, rho2= 0.15, design_effect=2.75)"
   ]
  },
  {
   "cell_type": "code",
   "execution_count": 6,
   "metadata": {},
   "outputs": [
    {
     "data": {
      "text/plain": [
       "40.0"
      ]
     },
     "execution_count": 6,
     "metadata": {},
     "output_type": "execute_result"
    }
   ],
   "source": [
    "# sample_size, i.e., minimum required samples sizes (MRSS) for level 2 units\n",
    "sample_size(design = \"rd2_1r\", es=0.15782962225367275, n=50,r21=0.5, g=1, \n",
    "          r2t2=0.1, omega2=0.2, rho2= 0.15, design_effect=2.75)"
   ]
  },
  {
   "cell_type": "code",
   "execution_count": 7,
   "metadata": {},
   "outputs": [
    {
     "data": {
      "text/plain": [
       "0.8000090684884187"
      ]
     },
     "execution_count": 7,
     "metadata": {},
     "output_type": "execute_result"
    }
   ],
   "source": [
    "# power\n",
    "power(design = \"rd2_1r\", es=0.15782962225367275, n=50, J=40, r21=0.5, g=1, \n",
    "      r2t2=0.1, omega2=0.2, rho2= 0.15, design_effect=2.75)"
   ]
  },
  {
   "cell_type": "raw",
   "metadata": {},
   "source": [
    "<table border=\"1\" class=\"docutils\">\n",
    "<colgroup>\n",
    "<col width=\"32%\" />\n",
    "<col width=\"26%\" />\n",
    "<col width=\"26%\" />\n",
    "<col width=\"16%\" />\n",
    "</colgroup>\n",
    "<thead valign=\"bottom\">\n",
    "<tr class=\"row-odd\"><th class=\"head\">Parameters</th>\n",
    "<th class=\"head\"><code class=\"docutils literal notranslate\"><span class=\"pre\">effect_size</span></code></th>\n",
    "<th class=\"head\"><code class=\"docutils literal notranslate\"><span class=\"pre\">sample_size</span></code></th>\n",
    "<th class=\"head\"><code class=\"docutils literal notranslate\"><span class=\"pre\">power</span></code></th>\n",
    "</tr>\n",
    "</thead>\n",
    "<tbody valign=\"top\">\n",
    "<tr class=\"row-even\"><td><a class=\"hoverxref tooltip reference internal\" data-doc=\"parameters\" data-docpath=\"/parameters.html\" data-project=\"pypowerup\" data-section=\"design\" data-version=\"latest\" href=\"parameters.html#design\"><span class=\"std std-ref\">design</span></a></td>\n",
    "<td>✓</td>\n",
    "<td>✓</td>\n",
    "<td>✓</td>\n",
    "</tr>\n",
    "<tr class=\"row-odd\"><td><a class=\"hoverxref tooltip reference internal\" data-doc=\"parameters\" data-docpath=\"/parameters.html\" data-project=\"pypowerup\" data-section=\"es\" data-version=\"latest\" href=\"parameters.html#es\"><span class=\"std std-ref\">es</span></a></td>\n",
    "<td>&#160;</td>\n",
    "<td>✓</td>\n",
    "<td>✓</td>\n",
    "</tr>\n",
    "<tr class=\"row-odd\"><td><a class=\"hoverxref tooltip reference internal\" data-doc=\"parameters\" data-docpath=\"/parameters.html\" data-project=\"pypowerup\" data-section=\"n\" data-version=\"latest\" href=\"parameters.html#n\"><span class=\"std std-ref\">n</span></a></td>\n",
    "<td>✓</td>\n",
    "<td>✓</td>\n",
    "<td>✓</td>\n",
    "</tr>\n",
    "<tr class=\"row-odd\"><td><a class=\"hoverxref tooltip reference internal\" data-doc=\"parameters\" data-docpath=\"/parameters.html\" data-project=\"pypowerup\" data-section=\"J\" data-version=\"latest\" href=\"parameters.html#J\"><span class=\"std std-ref\">J</span></a></td>\n",
    "<td>✓</td>\n",
    "<td>&#160;</td>\n",
    "<td>✓</td>\n",
    "</tr>\n",
    "<tr class=\"row-odd\"><td><a class=\"hoverxref tooltip reference internal\" data-doc=\"parameters\" data-docpath=\"/parameters.html\" data-project=\"pypowerup\" data-section=\"power\" data-version=\"latest\" href=\"parameters.html#power\"><span class=\"std std-ref\">power</span></a></td>\n",
    "<td>✓</td>\n",
    "<td>✓</td>\n",
    "<td>&#160;</td>\n",
    "</tr>\n",
    "<tr class=\"row-odd\"><td><a class=\"hoverxref tooltip reference internal\" data-doc=\"parameters\" data-docpath=\"/parameters.html\" data-project=\"pypowerup\" data-section=\"alpha\" data-version=\"latest\" href=\"parameters.html#alpha\"><span class=\"std std-ref\">alpha</span></a></td>\n",
    "<td>✓</td>\n",
    "<td>✓</td>\n",
    "<td>✓</td>\n",
    "</tr>\n",
    "<tr class=\"row-even\"><td><a class=\"hoverxref tooltip reference internal\" data-doc=\"parameters\" data-docpath=\"/parameters.html\" data-project=\"pypowerup\" data-section=\"two-tailed\" data-version=\"latest\" href=\"parameters.html#two-tailed\"><span class=\"std std-ref\">two_tailed</span></a></td>\n",
    "<td>✓</td>\n",
    "<td>✓</td>\n",
    "<td>✓</td>\n",
    "</tr>\n",
    "<tr class=\"row-odd\"><td><a class=\"hoverxref tooltip reference internal\" data-doc=\"parameters\" data-docpath=\"/parameters.html\" data-project=\"pypowerup\" data-section=\"p\" data-version=\"latest\" href=\"parameters.html#p\"><span class=\"std std-ref\">p</span></a></td>\n",
    "<td>✓</td>\n",
    "<td>✓</td>\n",
    "<td>✓</td>\n",
    "</tr>\n",
    "<tr class=\"row-even\"><td><a class=\"hoverxref tooltip reference internal\" data-doc=\"parameters\" data-docpath=\"/parameters.html\" data-project=\"pypowerup\" data-section=\"r21\" data-version=\"latest\" href=\"parameters.html#r21\"><span class=\"std std-ref\">r21</span></a></td>\n",
    "<td>✓</td>\n",
    "<td>✓</td>\n",
    "<td>✓</td>\n",
    "</tr>\n",
    "<tr class=\"row-even\"><td><a class=\"hoverxref tooltip reference internal\" data-doc=\"parameters\" data-docpath=\"/parameters.html\" data-project=\"pypowerup\" data-section=\"rho2\" data-version=\"latest\" href=\"parameters.html#rho2\"><span class=\"std std-ref\">rho2</span></a></td>\n",
    "<td>✓</td>\n",
    "<td>✓</td>\n",
    "<td>✓</td>\n",
    "</tr>\n",
    "<tr class=\"row-even\"><td><a class=\"hoverxref tooltip reference internal\" data-doc=\"parameters\" data-docpath=\"/parameters.html\" data-project=\"pypowerup\" data-section=\"r2t2\" data-version=\"latest\" href=\"parameters.html#r2t2\"><span class=\"std std-ref\">r2t2</span></a></td>\n",
    "<td>✓</td>\n",
    "<td>✓</td>\n",
    "<td>✓</td>\n",
    "</tr>\n",
    "<tr class=\"row-odd\"><td><a class=\"hoverxref tooltip reference internal\" data-doc=\"parameters\" data-docpath=\"/parameters.html\" data-project=\"pypowerup\" data-section=\"g\" data-version=\"latest\" href=\"parameters.html#g\"><span class=\"std std-ref\">g</span></a></td>\n",
    "<td>✓</td>\n",
    "<td>✓</td>\n",
    "<td>✓</td>\n",
    "</tr>\n",
    "<tr class=\"row-odd\"><td><a class=\"hoverxref tooltip reference internal\" data-doc=\"parameters\" data-docpath=\"/parameters.html\" data-project=\"pypowerup\" data-section=\"design_effect\" data-version=\"latest\" href=\"parameters.html#design_effect\"><span class=\"std std-ref\">design_effect</span></a></td>\n",
    "<td>✓</td>\n",
    "<td>✓</td>\n",
    "<td>✓</td>\n",
    "</tr>\n",
    "</tbody>\n",
    "</table>"
   ]
  },
  {
   "cell_type": "markdown",
   "metadata": {},
   "source": [
    "## RDC_2r\n",
    "\n",
    "| Assignment | Clustering Level | Treatment Assignment | Treatment Level| Cluster Effect |\n",
    "|:----------:|:----------------:|:--------------------:|:--------------:|:--------------:|\n",
    "| simple     | 2                | cluster              | 2              | random         |\n",
    "\n"
   ]
  },
  {
   "cell_type": "code",
   "execution_count": 8,
   "metadata": {},
   "outputs": [
    {
     "data": {
      "text/plain": [
       "0.20086870136611698"
      ]
     },
     "execution_count": 8,
     "metadata": {},
     "output_type": "execute_result"
    }
   ],
   "source": [
    "# effect size, i.e., minimum detectable effect sizes (MDES)\n",
    "effect_size(design = \"rdc_2r\", rho2=0.15, r21=0.5, r22=0.5, g=1, n=55, J=179, design_effect=2.75)"
   ]
  },
  {
   "cell_type": "code",
   "execution_count": 9,
   "metadata": {},
   "outputs": [
    {
     "data": {
      "text/plain": [
       "179.0"
      ]
     },
     "execution_count": 9,
     "metadata": {},
     "output_type": "execute_result"
    }
   ],
   "source": [
    "# sample_size, i.e., minimum required samples sizes (MRSS) for level 2 units\n",
    "sample_size(design = \"rdc_2r\", es=0.20086870136611698, rho2=0.15, r21=0.5, \n",
    "            r22=0.5, g=1, n=55, design_effect=2.75)"
   ]
  },
  {
   "cell_type": "code",
   "execution_count": 10,
   "metadata": {},
   "outputs": [
    {
     "data": {
      "text/plain": [
       "0.8000017574724924"
      ]
     },
     "execution_count": 10,
     "metadata": {},
     "output_type": "execute_result"
    }
   ],
   "source": [
    "# power\n",
    "power(design = \"rdc_2r\", es=0.20086870136611698, rho2=0.15, r21=0.5, \n",
    "            r22=0.5, g=1, n=55, J=179, design_effect=2.75)\n"
   ]
  },
  {
   "cell_type": "raw",
   "metadata": {},
   "source": [
    "<table border=\"1\" class=\"docutils\">\n",
    "<colgroup>\n",
    "<col width=\"32%\" />\n",
    "<col width=\"26%\" />\n",
    "<col width=\"26%\" />\n",
    "<col width=\"16%\" />\n",
    "</colgroup>\n",
    "<thead valign=\"bottom\">\n",
    "<tr class=\"row-odd\"><th class=\"head\">Parameters</th>\n",
    "<th class=\"head\"><code class=\"docutils literal notranslate\"><span class=\"pre\">effect_size</span></code></th>\n",
    "<th class=\"head\"><code class=\"docutils literal notranslate\"><span class=\"pre\">sample_size</span></code></th>\n",
    "<th class=\"head\"><code class=\"docutils literal notranslate\"><span class=\"pre\">power</span></code></th>\n",
    "</tr>\n",
    "</thead>\n",
    "<tbody valign=\"top\">\n",
    "<tr class=\"row-even\"><td><a class=\"hoverxref tooltip reference internal\" data-doc=\"parameters\" data-docpath=\"/parameters.html\" data-project=\"pypowerup\" data-section=\"design\" data-version=\"latest\" href=\"parameters.html#design\"><span class=\"std std-ref\">design</span></a></td>\n",
    "<td>✓</td>\n",
    "<td>✓</td>\n",
    "<td>✓</td>\n",
    "</tr>\n",
    "<tr class=\"row-odd\"><td><a class=\"hoverxref tooltip reference internal\" data-doc=\"parameters\" data-docpath=\"/parameters.html\" data-project=\"pypowerup\" data-section=\"es\" data-version=\"latest\" href=\"parameters.html#es\"><span class=\"std std-ref\">es</span></a></td>\n",
    "<td>&#160;</td>\n",
    "<td>✓</td>\n",
    "<td>✓</td>\n",
    "</tr>\n",
    "<tr class=\"row-odd\"><td><a class=\"hoverxref tooltip reference internal\" data-doc=\"parameters\" data-docpath=\"/parameters.html\" data-project=\"pypowerup\" data-section=\"n\" data-version=\"latest\" href=\"parameters.html#n\"><span class=\"std std-ref\">n</span></a></td>\n",
    "<td>✓</td>\n",
    "<td>✓</td>\n",
    "<td>✓</td>\n",
    "</tr>\n",
    "<tr class=\"row-odd\"><td><a class=\"hoverxref tooltip reference internal\" data-doc=\"parameters\" data-docpath=\"/parameters.html\" data-project=\"pypowerup\" data-section=\"J\" data-version=\"latest\" href=\"parameters.html#J\"><span class=\"std std-ref\">J</span></a></td>\n",
    "<td>✓</td>\n",
    "<td>&#160;</td>\n",
    "<td>✓</td>\n",
    "</tr>\n",
    "<tr class=\"row-odd\"><td><a class=\"hoverxref tooltip reference internal\" data-doc=\"parameters\" data-docpath=\"/parameters.html\" data-project=\"pypowerup\" data-section=\"power\" data-version=\"latest\" href=\"parameters.html#power\"><span class=\"std std-ref\">power</span></a></td>\n",
    "<td>✓</td>\n",
    "<td>✓</td>\n",
    "<td>&#160;</td>\n",
    "</tr>\n",
    "<tr class=\"row-odd\"><td><a class=\"hoverxref tooltip reference internal\" data-doc=\"parameters\" data-docpath=\"/parameters.html\" data-project=\"pypowerup\" data-section=\"alpha\" data-version=\"latest\" href=\"parameters.html#alpha\"><span class=\"std std-ref\">alpha</span></a></td>\n",
    "<td>✓</td>\n",
    "<td>✓</td>\n",
    "<td>✓</td>\n",
    "</tr>\n",
    "<tr class=\"row-even\"><td><a class=\"hoverxref tooltip reference internal\" data-doc=\"parameters\" data-docpath=\"/parameters.html\" data-project=\"pypowerup\" data-section=\"two-tailed\" data-version=\"latest\" href=\"parameters.html#two-tailed\"><span class=\"std std-ref\">two_tailed</span></a></td>\n",
    "<td>✓</td>\n",
    "<td>✓</td>\n",
    "<td>✓</td>\n",
    "</tr>\n",
    "<tr class=\"row-odd\"><td><a class=\"hoverxref tooltip reference internal\" data-doc=\"parameters\" data-docpath=\"/parameters.html\" data-project=\"pypowerup\" data-section=\"p\" data-version=\"latest\" href=\"parameters.html#p\"><span class=\"std std-ref\">p</span></a></td>\n",
    "<td>✓</td>\n",
    "<td>✓</td>\n",
    "<td>✓</td>\n",
    "</tr>\n",
    "<tr class=\"row-even\"><td><a class=\"hoverxref tooltip reference internal\" data-doc=\"parameters\" data-docpath=\"/parameters.html\" data-project=\"pypowerup\" data-section=\"r21\" data-version=\"latest\" href=\"parameters.html#r21\"><span class=\"std std-ref\">r21</span></a></td>\n",
    "<td>✓</td>\n",
    "<td>✓</td>\n",
    "<td>✓</td>\n",
    "</tr>\n",
    "<tr class=\"row-even\"><td><a class=\"hoverxref tooltip reference internal\" data-doc=\"parameters\" data-docpath=\"/parameters.html\" data-project=\"pypowerup\" data-section=\"rho2\" data-version=\"latest\" href=\"parameters.html#rho2\"><span class=\"std std-ref\">rho2</span></a></td>\n",
    "<td>✓</td>\n",
    "<td>✓</td>\n",
    "<td>✓</td>\n",
    "</tr>\n",
    "<tr class=\"row-even\"><td><a class=\"hoverxref tooltip reference internal\" data-doc=\"parameters\" data-docpath=\"/parameters.html\" data-project=\"pypowerup\" data-section=\"r22\" data-version=\"latest\" href=\"parameters.html#r22\"><span class=\"std std-ref\">r22</span></a></td>\n",
    "<td>✓</td>\n",
    "<td>✓</td>\n",
    "<td>✓</td>\n",
    "</tr>\n",
    "<tr class=\"row-odd\"><td><a class=\"hoverxref tooltip reference internal\" data-doc=\"parameters\" data-docpath=\"/parameters.html\" data-project=\"pypowerup\" data-section=\"g\" data-version=\"latest\" href=\"parameters.html#g\"><span class=\"std std-ref\">g</span></a></td>\n",
    "<td>✓</td>\n",
    "<td>✓</td>\n",
    "<td>✓</td>\n",
    "</tr>\n",
    "<tr class=\"row-odd\"><td><a class=\"hoverxref tooltip reference internal\" data-doc=\"parameters\" data-docpath=\"/parameters.html\" data-project=\"pypowerup\" data-section=\"design_effect\" data-version=\"latest\" href=\"parameters.html#design_effect\"><span class=\"std std-ref\">design_effect</span></a></td>\n",
    "<td>✓</td>\n",
    "<td>✓</td>\n",
    "<td>✓</td>\n",
    "</tr>\n",
    "</tbody>\n",
    "</table>"
   ]
  },
  {
   "cell_type": "markdown",
   "metadata": {},
   "source": [
    "## RDC_3r\n",
    "\n",
    "| Assignment | Clustering Level | Treatment Assignment | Treatment Level| Cluster Effect |\n",
    "|:----------:|:----------------:|:--------------------:|:--------------:|:--------------:|\n",
    "| simple     | 3                | cluster              | 3              | random         |\n"
   ]
  },
  {
   "cell_type": "code",
   "execution_count": 11,
   "metadata": {},
   "outputs": [
    {
     "data": {
      "text/plain": [
       "0.20079075638849297"
      ]
     },
     "execution_count": 11,
     "metadata": {},
     "output_type": "execute_result"
    }
   ],
   "source": [
    "# effect size, i.e., minimum detectable effect sizes (MDES)\n",
    "effect_size(design = \"rdc_3r\", rho3=0.15, rho2=0.15, r21=0.5, r22=0.5, \n",
    "            r23=0.5,  g=1, n=18, J=3, K=230, design_effect=2.75)\n"
   ]
  },
  {
   "cell_type": "code",
   "execution_count": 12,
   "metadata": {},
   "outputs": [
    {
     "data": {
      "text/plain": [
       "230.0"
      ]
     },
     "execution_count": 12,
     "metadata": {},
     "output_type": "execute_result"
    }
   ],
   "source": [
    "# sample_size, i.e., minimum required samples sizes (MRSS) for level 2 units\n",
    "sample_size(design = \"rdc_3r\", es=0.20079075638849297, rho3=0.15, rho2=0.15, r21=0.5, r22=0.5, \n",
    "            r23=0.5,  g=1, n=18, J=3, design_effect=2.75)"
   ]
  },
  {
   "cell_type": "code",
   "execution_count": 13,
   "metadata": {},
   "outputs": [
    {
     "data": {
      "text/plain": [
       "0.8000015459112233"
      ]
     },
     "execution_count": 13,
     "metadata": {},
     "output_type": "execute_result"
    }
   ],
   "source": [
    "# power\n",
    "power(design = \"rdc_3r\", es=0.20079075638849297, rho3=0.15, rho2=0.15, r21=0.5, r22=0.5, \n",
    "            r23=0.5,  g=1, n=18, J=3, K=230, design_effect=2.75)"
   ]
  },
  {
   "cell_type": "raw",
   "metadata": {},
   "source": [
    "<table border=\"1\" class=\"docutils\">\n",
    "<colgroup>\n",
    "<col width=\"32%\" />\n",
    "<col width=\"26%\" />\n",
    "<col width=\"26%\" />\n",
    "<col width=\"16%\" />\n",
    "</colgroup>\n",
    "<thead valign=\"bottom\">\n",
    "<tr class=\"row-odd\"><th class=\"head\">Parameters</th>\n",
    "<th class=\"head\"><code class=\"docutils literal notranslate\"><span class=\"pre\">effect_size</span></code></th>\n",
    "<th class=\"head\"><code class=\"docutils literal notranslate\"><span class=\"pre\">sample_size</span></code></th>\n",
    "<th class=\"head\"><code class=\"docutils literal notranslate\"><span class=\"pre\">power</span></code></th>\n",
    "</tr>\n",
    "</thead>\n",
    "<tbody valign=\"top\">\n",
    "<tr class=\"row-even\"><td><a class=\"hoverxref tooltip reference internal\" data-doc=\"parameters\" data-docpath=\"/parameters.html\" data-project=\"pypowerup\" data-section=\"design\" data-version=\"latest\" href=\"parameters.html#design\"><span class=\"std std-ref\">design</span></a></td>\n",
    "<td>✓</td>\n",
    "<td>✓</td>\n",
    "<td>✓</td>\n",
    "</tr>\n",
    "<tr class=\"row-odd\"><td><a class=\"hoverxref tooltip reference internal\" data-doc=\"parameters\" data-docpath=\"/parameters.html\" data-project=\"pypowerup\" data-section=\"es\" data-version=\"latest\" href=\"parameters.html#es\"><span class=\"std std-ref\">es</span></a></td>\n",
    "<td>&#160;</td>\n",
    "<td>✓</td>\n",
    "<td>✓</td>\n",
    "</tr>\n",
    "<tr class=\"row-odd\"><td><a class=\"hoverxref tooltip reference internal\" data-doc=\"parameters\" data-docpath=\"/parameters.html\" data-project=\"pypowerup\" data-section=\"n\" data-version=\"latest\" href=\"parameters.html#n\"><span class=\"std std-ref\">n</span></a></td>\n",
    "<td>✓</td>\n",
    "<td>✓</td>\n",
    "<td>✓</td>\n",
    "</tr>\n",
    "<tr class=\"row-odd\"><td><a class=\"hoverxref tooltip reference internal\" data-doc=\"parameters\" data-docpath=\"/parameters.html\" data-project=\"pypowerup\" data-section=\"J\" data-version=\"latest\" href=\"parameters.html#J\"><span class=\"std std-ref\">J</span></a></td>\n",
    "<td>✓</td>\n",
    "<td>✓</td>\n",
    "<td>✓</td>\n",
    "</tr>\n",
    "<tr class=\"row-odd\"><td><a class=\"hoverxref tooltip reference internal\" data-doc=\"parameters\" data-docpath=\"/parameters.html\" data-project=\"pypowerup\" data-section=\"K\" data-version=\"latest\" href=\"parameters.html#K\"><span class=\"std std-ref\">K</span></a></td>\n",
    "<td>✓</td>\n",
    "<td>&#160;</td>\n",
    "<td>✓</td>\n",
    "</tr>\n",
    "<tr class=\"row-odd\"><td><a class=\"hoverxref tooltip reference internal\" data-doc=\"parameters\" data-docpath=\"/parameters.html\" data-project=\"pypowerup\" data-section=\"power\" data-version=\"latest\" href=\"parameters.html#power\"><span class=\"std std-ref\">power</span></a></td>\n",
    "<td>✓</td>\n",
    "<td>✓</td>\n",
    "<td>&#160;</td>\n",
    "</tr>\n",
    "<tr class=\"row-odd\"><td><a class=\"hoverxref tooltip reference internal\" data-doc=\"parameters\" data-docpath=\"/parameters.html\" data-project=\"pypowerup\" data-section=\"alpha\" data-version=\"latest\" href=\"parameters.html#alpha\"><span class=\"std std-ref\">alpha</span></a></td>\n",
    "<td>✓</td>\n",
    "<td>✓</td>\n",
    "<td>✓</td>\n",
    "</tr>\n",
    "<tr class=\"row-even\"><td><a class=\"hoverxref tooltip reference internal\" data-doc=\"parameters\" data-docpath=\"/parameters.html\" data-project=\"pypowerup\" data-section=\"two-tailed\" data-version=\"latest\" href=\"parameters.html#two-tailed\"><span class=\"std std-ref\">two_tailed</span></a></td>\n",
    "<td>✓</td>\n",
    "<td>✓</td>\n",
    "<td>✓</td>\n",
    "</tr>\n",
    "<tr class=\"row-odd\"><td><a class=\"hoverxref tooltip reference internal\" data-doc=\"parameters\" data-docpath=\"/parameters.html\" data-project=\"pypowerup\" data-section=\"p\" data-version=\"latest\" href=\"parameters.html#p\"><span class=\"std std-ref\">p</span></a></td>\n",
    "<td>✓</td>\n",
    "<td>✓</td>\n",
    "<td>✓</td>\n",
    "</tr>\n",
    "<tr class=\"row-even\"><td><a class=\"hoverxref tooltip reference internal\" data-doc=\"parameters\" data-docpath=\"/parameters.html\" data-project=\"pypowerup\" data-section=\"r21\" data-version=\"latest\" href=\"parameters.html#r21\"><span class=\"std std-ref\">r21</span></a></td>\n",
    "<td>✓</td>\n",
    "<td>✓</td>\n",
    "<td>✓</td>\n",
    "</tr>\n",
    "<tr class=\"row-even\"><td><a class=\"hoverxref tooltip reference internal\" data-doc=\"parameters\" data-docpath=\"/parameters.html\" data-project=\"pypowerup\" data-section=\"rho2\" data-version=\"latest\" href=\"parameters.html#rho2\"><span class=\"std std-ref\">rho2</span></a></td>\n",
    "<td>✓</td>\n",
    "<td>✓</td>\n",
    "<td>✓</td>\n",
    "</tr>\n",
    "<tr class=\"row-even\"><td><a class=\"hoverxref tooltip reference internal\" data-doc=\"parameters\" data-docpath=\"/parameters.html\" data-project=\"pypowerup\" data-section=\"r22\" data-version=\"latest\" href=\"parameters.html#r22\"><span class=\"std std-ref\">r22</span></a></td>\n",
    "<td>✓</td>\n",
    "<td>✓</td>\n",
    "<td>✓</td>\n",
    "</tr>\n",
    "<tr class=\"row-even\"><td><a class=\"hoverxref tooltip reference internal\" data-doc=\"parameters\" data-docpath=\"/parameters.html\" data-project=\"pypowerup\" data-section=\"rho3\" data-version=\"latest\" href=\"parameters.html#rho3\"><span class=\"std std-ref\">rho3</span></a></td>\n",
    "<td>✓</td>\n",
    "<td>✓</td>\n",
    "<td>✓</td>\n",
    "</tr>\n",
    "<tr class=\"row-even\"><td><a class=\"hoverxref tooltip reference internal\" data-doc=\"parameters\" data-docpath=\"/parameters.html\" data-project=\"pypowerup\" data-section=\"r23\" data-version=\"latest\" href=\"parameters.html#r23\"><span class=\"std std-ref\">r23</span></a></td>\n",
    "<td>✓</td>\n",
    "<td>✓</td>\n",
    "<td>✓</td>\n",
    "</tr>\n",
    "<tr class=\"row-odd\"><td><a class=\"hoverxref tooltip reference internal\" data-doc=\"parameters\" data-docpath=\"/parameters.html\" data-project=\"pypowerup\" data-section=\"g\" data-version=\"latest\" href=\"parameters.html#g\"><span class=\"std std-ref\">g</span></a></td>\n",
    "<td>✓</td>\n",
    "<td>✓</td>\n",
    "<td>✓</td>\n",
    "</tr>\n",
    "<tr class=\"row-odd\"><td><a class=\"hoverxref tooltip reference internal\" data-doc=\"parameters\" data-docpath=\"/parameters.html\" data-project=\"pypowerup\" data-section=\"design_effect\" data-version=\"latest\" href=\"parameters.html#design_effect\"><span class=\"std std-ref\">design_effect</span></a></td>\n",
    "<td>✓</td>\n",
    "<td>✓</td>\n",
    "<td>✓</td>\n",
    "</tr>\n",
    "</tbody>\n",
    "</table>"
   ]
  },
  {
   "cell_type": "markdown",
   "metadata": {},
   "source": [
    "## RD2_3f\n",
    "\n",
    "| Assignment | Clustering Level | Treatment Assignment | Treatment Level| Cluster Effect |\n",
    "|:----------:|:----------------:|:--------------------:|:--------------:|:--------------:|\n",
    "| blocked    | 3                | cluster              | 2              | fixed          |\n",
    "\n"
   ]
  },
  {
   "cell_type": "code",
   "execution_count": 14,
   "metadata": {},
   "outputs": [
    {
     "data": {
      "text/plain": [
       "0.20131125779908843"
      ]
     },
     "execution_count": 14,
     "metadata": {},
     "output_type": "execute_result"
    }
   ],
   "source": [
    "# effect size, i.e., minimum detectable effect sizes (MDES)\n",
    "effect_size(design = \"rd3_2f\", rho2=0.15, r21=0.5, r22=0.5, g=0, n=18, J=3, K=71, design_effect=2.75)"
   ]
  },
  {
   "cell_type": "code",
   "execution_count": 15,
   "metadata": {},
   "outputs": [
    {
     "data": {
      "text/plain": [
       "71.0"
      ]
     },
     "execution_count": 15,
     "metadata": {},
     "output_type": "execute_result"
    }
   ],
   "source": [
    "# sample_size, i.e., minimum required samples sizes (MRSS) for level 3 units\n",
    "sample_size(design = \"rd3_2f\", es=0.20131125779908843, rho2=0.15, r21=0.5, r22=0.5, g=0, \n",
    "            n=18, J=3, design_effect=2.75)"
   ]
  },
  {
   "cell_type": "code",
   "execution_count": 16,
   "metadata": {},
   "outputs": [
    {
     "data": {
      "text/plain": [
       "0.8000020062425997"
      ]
     },
     "execution_count": 16,
     "metadata": {},
     "output_type": "execute_result"
    }
   ],
   "source": [
    "# power\n",
    "power(design = \"rd3_2f\", es=0.20131125779908843, rho2=0.15, r21=0.5, r22=0.5, g=0, \n",
    "            n=18, J=3, K=71, design_effect=2.75)"
   ]
  },
  {
   "cell_type": "raw",
   "metadata": {},
   "source": [
    "<table border=\"1\" class=\"docutils\">\n",
    "<colgroup>\n",
    "<col width=\"32%\" />\n",
    "<col width=\"26%\" />\n",
    "<col width=\"26%\" />\n",
    "<col width=\"16%\" />\n",
    "</colgroup>\n",
    "<thead valign=\"bottom\">\n",
    "<tr class=\"row-odd\"><th class=\"head\">Parameters</th>\n",
    "<th class=\"head\"><code class=\"docutils literal notranslate\"><span class=\"pre\">effect_size</span></code></th>\n",
    "<th class=\"head\"><code class=\"docutils literal notranslate\"><span class=\"pre\">sample_size</span></code></th>\n",
    "<th class=\"head\"><code class=\"docutils literal notranslate\"><span class=\"pre\">power</span></code></th>\n",
    "</tr>\n",
    "</thead>\n",
    "<tbody valign=\"top\">\n",
    "<tr class=\"row-even\"><td><a class=\"hoverxref tooltip reference internal\" data-doc=\"parameters\" data-docpath=\"/parameters.html\" data-project=\"pypowerup\" data-section=\"design\" data-version=\"latest\" href=\"parameters.html#design\"><span class=\"std std-ref\">design</span></a></td>\n",
    "<td>✓</td>\n",
    "<td>✓</td>\n",
    "<td>✓</td>\n",
    "</tr>\n",
    "<tr class=\"row-odd\"><td><a class=\"hoverxref tooltip reference internal\" data-doc=\"parameters\" data-docpath=\"/parameters.html\" data-project=\"pypowerup\" data-section=\"es\" data-version=\"latest\" href=\"parameters.html#es\"><span class=\"std std-ref\">es</span></a></td>\n",
    "<td>&#160;</td>\n",
    "<td>✓</td>\n",
    "<td>✓</td>\n",
    "</tr>\n",
    "<tr class=\"row-odd\"><td><a class=\"hoverxref tooltip reference internal\" data-doc=\"parameters\" data-docpath=\"/parameters.html\" data-project=\"pypowerup\" data-section=\"n\" data-version=\"latest\" href=\"parameters.html#n\"><span class=\"std std-ref\">n</span></a></td>\n",
    "<td>✓</td>\n",
    "<td>✓</td>\n",
    "<td>✓</td>\n",
    "</tr>\n",
    "<tr class=\"row-odd\"><td><a class=\"hoverxref tooltip reference internal\" data-doc=\"parameters\" data-docpath=\"/parameters.html\" data-project=\"pypowerup\" data-section=\"J\" data-version=\"latest\" href=\"parameters.html#J\"><span class=\"std std-ref\">J</span></a></td>\n",
    "<td>✓</td>\n",
    "<td>✓</td>\n",
    "<td>✓</td>\n",
    "</tr>\n",
    "<tr class=\"row-odd\"><td><a class=\"hoverxref tooltip reference internal\" data-doc=\"parameters\" data-docpath=\"/parameters.html\" data-project=\"pypowerup\" data-section=\"K\" data-version=\"latest\" href=\"parameters.html#K\"><span class=\"std std-ref\">K</span></a></td>\n",
    "<td>✓</td>\n",
    "<td>&#160;</td>\n",
    "<td>✓</td>\n",
    "</tr>\n",
    "<tr class=\"row-odd\"><td><a class=\"hoverxref tooltip reference internal\" data-doc=\"parameters\" data-docpath=\"/parameters.html\" data-project=\"pypowerup\" data-section=\"power\" data-version=\"latest\" href=\"parameters.html#power\"><span class=\"std std-ref\">power</span></a></td>\n",
    "<td>✓</td>\n",
    "<td>✓</td>\n",
    "<td>&#160;</td>\n",
    "</tr>\n",
    "<tr class=\"row-odd\"><td><a class=\"hoverxref tooltip reference internal\" data-doc=\"parameters\" data-docpath=\"/parameters.html\" data-project=\"pypowerup\" data-section=\"alpha\" data-version=\"latest\" href=\"parameters.html#alpha\"><span class=\"std std-ref\">alpha</span></a></td>\n",
    "<td>✓</td>\n",
    "<td>✓</td>\n",
    "<td>✓</td>\n",
    "</tr>\n",
    "<tr class=\"row-even\"><td><a class=\"hoverxref tooltip reference internal\" data-doc=\"parameters\" data-docpath=\"/parameters.html\" data-project=\"pypowerup\" data-section=\"two-tailed\" data-version=\"latest\" href=\"parameters.html#two-tailed\"><span class=\"std std-ref\">two_tailed</span></a></td>\n",
    "<td>✓</td>\n",
    "<td>✓</td>\n",
    "<td>✓</td>\n",
    "</tr>\n",
    "<tr class=\"row-odd\"><td><a class=\"hoverxref tooltip reference internal\" data-doc=\"parameters\" data-docpath=\"/parameters.html\" data-project=\"pypowerup\" data-section=\"p\" data-version=\"latest\" href=\"parameters.html#p\"><span class=\"std std-ref\">p</span></a></td>\n",
    "<td>✓</td>\n",
    "<td>✓</td>\n",
    "<td>✓</td>\n",
    "</tr>\n",
    "<tr class=\"row-even\"><td><a class=\"hoverxref tooltip reference internal\" data-doc=\"parameters\" data-docpath=\"/parameters.html\" data-project=\"pypowerup\" data-section=\"r21\" data-version=\"latest\" href=\"parameters.html#r21\"><span class=\"std std-ref\">r21</span></a></td>\n",
    "<td>✓</td>\n",
    "<td>✓</td>\n",
    "<td>✓</td>\n",
    "</tr>\n",
    "<tr class=\"row-even\"><td><a class=\"hoverxref tooltip reference internal\" data-doc=\"parameters\" data-docpath=\"/parameters.html\" data-project=\"pypowerup\" data-section=\"rho2\" data-version=\"latest\" href=\"parameters.html#rho2\"><span class=\"std std-ref\">rho2</span></a></td>\n",
    "<td>✓</td>\n",
    "<td>✓</td>\n",
    "<td>✓</td>\n",
    "</tr>\n",
    "<tr class=\"row-even\"><td><a class=\"hoverxref tooltip reference internal\" data-doc=\"parameters\" data-docpath=\"/parameters.html\" data-project=\"pypowerup\" data-section=\"r22\" data-version=\"latest\" href=\"parameters.html#r22\"><span class=\"std std-ref\">r22</span></a></td>\n",
    "<td>✓</td>\n",
    "<td>✓</td>\n",
    "<td>✓</td>\n",
    "</tr>\n",
    "<tr class=\"row-odd\"><td><a class=\"hoverxref tooltip reference internal\" data-doc=\"parameters\" data-docpath=\"/parameters.html\" data-project=\"pypowerup\" data-section=\"g\" data-version=\"latest\" href=\"parameters.html#g\"><span class=\"std std-ref\">g</span></a></td>\n",
    "<td>✓</td>\n",
    "<td>✓</td>\n",
    "<td>✓</td>\n",
    "</tr>\n",
    "<tr class=\"row-odd\"><td><a class=\"hoverxref tooltip reference internal\" data-doc=\"parameters\" data-docpath=\"/parameters.html\" data-project=\"pypowerup\" data-section=\"design_effect\" data-version=\"latest\" href=\"parameters.html#design_effect\"><span class=\"std std-ref\">design_effect</span></a></td>\n",
    "<td>✓</td>\n",
    "<td>✓</td>\n",
    "<td>✓</td>\n",
    "</tr>\n",
    "</tbody>\n",
    "</table>"
   ]
  },
  {
   "cell_type": "markdown",
   "metadata": {},
   "source": [
    "## RD2_3r\n",
    "\n",
    "| Assignment | Clustering Level | Treatment Assignment | Treatment Level| Cluster Effect |\n",
    "|:----------:|:----------------:|:--------------------:|:--------------:|:--------------:|\n",
    "| blocked    | 3                | cluster              | 2              | random         |\n"
   ]
  },
  {
   "cell_type": "code",
   "execution_count": 17,
   "metadata": {},
   "outputs": [
    {
     "data": {
      "text/plain": [
       "0.20079075638849297"
      ]
     },
     "execution_count": 17,
     "metadata": {},
     "output_type": "execute_result"
    }
   ],
   "source": [
    "# effect size, i.e., minimum detectable effect sizes (MDES)\n",
    "effect_size(design = \"rdc_3r\", rho3=0.15, rho2=0.15, r21=0.5, r22=0.5, r23=0.5,  \n",
    "            g=1, n=18, J=3, K=230, design_effect=2.75)"
   ]
  },
  {
   "cell_type": "code",
   "execution_count": 18,
   "metadata": {},
   "outputs": [
    {
     "data": {
      "text/plain": [
       "230.0"
      ]
     },
     "execution_count": 18,
     "metadata": {},
     "output_type": "execute_result"
    }
   ],
   "source": [
    "# sample_size, i.e., minimum required samples sizes (MRSS) for level 3 units\n",
    "sample_size(design = \"rdc_3r\", es=0.20079075638849297, rho3=0.15, rho2=0.15, r21=0.5, r22=0.5, r23=0.5,  \n",
    "            g=1, n=18, J=3, design_effect=2.75)"
   ]
  },
  {
   "cell_type": "code",
   "execution_count": 19,
   "metadata": {},
   "outputs": [
    {
     "data": {
      "text/plain": [
       "0.8000015459112233"
      ]
     },
     "execution_count": 19,
     "metadata": {},
     "output_type": "execute_result"
    }
   ],
   "source": [
    "# power\n",
    "power(design = \"rdc_3r\", es=0.20079075638849297, rho3=0.15, rho2=0.15, r21=0.5, r22=0.5, r23=0.5,  \n",
    "            g=1, n=18, J=3, K=230, design_effect=2.75)"
   ]
  },
  {
   "cell_type": "raw",
   "metadata": {},
   "source": [
    "<table border=\"1\" class=\"docutils\">\n",
    "<colgroup>\n",
    "<col width=\"32%\" />\n",
    "<col width=\"26%\" />\n",
    "<col width=\"26%\" />\n",
    "<col width=\"16%\" />\n",
    "</colgroup>\n",
    "<thead valign=\"bottom\">\n",
    "<tr class=\"row-odd\"><th class=\"head\">Parameters</th>\n",
    "<th class=\"head\"><code class=\"docutils literal notranslate\"><span class=\"pre\">effect_size</span></code></th>\n",
    "<th class=\"head\"><code class=\"docutils literal notranslate\"><span class=\"pre\">sample_size</span></code></th>\n",
    "<th class=\"head\"><code class=\"docutils literal notranslate\"><span class=\"pre\">power</span></code></th>\n",
    "</tr>\n",
    "</thead>\n",
    "<tbody valign=\"top\">\n",
    "<tr class=\"row-even\"><td><a class=\"hoverxref tooltip reference internal\" data-doc=\"parameters\" data-docpath=\"/parameters.html\" data-project=\"pypowerup\" data-section=\"design\" data-version=\"latest\" href=\"parameters.html#design\"><span class=\"std std-ref\">design</span></a></td>\n",
    "<td>✓</td>\n",
    "<td>✓</td>\n",
    "<td>✓</td>\n",
    "</tr>\n",
    "<tr class=\"row-odd\"><td><a class=\"hoverxref tooltip reference internal\" data-doc=\"parameters\" data-docpath=\"/parameters.html\" data-project=\"pypowerup\" data-section=\"es\" data-version=\"latest\" href=\"parameters.html#es\"><span class=\"std std-ref\">es</span></a></td>\n",
    "<td>&#160;</td>\n",
    "<td>✓</td>\n",
    "<td>✓</td>\n",
    "</tr>\n",
    "<tr class=\"row-odd\"><td><a class=\"hoverxref tooltip reference internal\" data-doc=\"parameters\" data-docpath=\"/parameters.html\" data-project=\"pypowerup\" data-section=\"n\" data-version=\"latest\" href=\"parameters.html#n\"><span class=\"std std-ref\">n</span></a></td>\n",
    "<td>✓</td>\n",
    "<td>✓</td>\n",
    "<td>✓</td>\n",
    "</tr>\n",
    "<tr class=\"row-odd\"><td><a class=\"hoverxref tooltip reference internal\" data-doc=\"parameters\" data-docpath=\"/parameters.html\" data-project=\"pypowerup\" data-section=\"J\" data-version=\"latest\" href=\"parameters.html#J\"><span class=\"std std-ref\">J</span></a></td>\n",
    "<td>✓</td>\n",
    "<td>✓</td>\n",
    "<td>✓</td>\n",
    "</tr>\n",
    "<tr class=\"row-odd\"><td><a class=\"hoverxref tooltip reference internal\" data-doc=\"parameters\" data-docpath=\"/parameters.html\" data-project=\"pypowerup\" data-section=\"K\" data-version=\"latest\" href=\"parameters.html#K\"><span class=\"std std-ref\">K</span></a></td>\n",
    "<td>✓</td>\n",
    "<td>&#160;</td>\n",
    "<td>✓</td>\n",
    "</tr>\n",
    "<tr class=\"row-odd\"><td><a class=\"hoverxref tooltip reference internal\" data-doc=\"parameters\" data-docpath=\"/parameters.html\" data-project=\"pypowerup\" data-section=\"power\" data-version=\"latest\" href=\"parameters.html#power\"><span class=\"std std-ref\">power</span></a></td>\n",
    "<td>✓</td>\n",
    "<td>✓</td>\n",
    "<td>&#160;</td>\n",
    "</tr>\n",
    "<tr class=\"row-odd\"><td><a class=\"hoverxref tooltip reference internal\" data-doc=\"parameters\" data-docpath=\"/parameters.html\" data-project=\"pypowerup\" data-section=\"alpha\" data-version=\"latest\" href=\"parameters.html#alpha\"><span class=\"std std-ref\">alpha</span></a></td>\n",
    "<td>✓</td>\n",
    "<td>✓</td>\n",
    "<td>✓</td>\n",
    "</tr>\n",
    "<tr class=\"row-even\"><td><a class=\"hoverxref tooltip reference internal\" data-doc=\"parameters\" data-docpath=\"/parameters.html\" data-project=\"pypowerup\" data-section=\"two-tailed\" data-version=\"latest\" href=\"parameters.html#two-tailed\"><span class=\"std std-ref\">two_tailed</span></a></td>\n",
    "<td>✓</td>\n",
    "<td>✓</td>\n",
    "<td>✓</td>\n",
    "</tr>\n",
    "<tr class=\"row-odd\"><td><a class=\"hoverxref tooltip reference internal\" data-doc=\"parameters\" data-docpath=\"/parameters.html\" data-project=\"pypowerup\" data-section=\"p\" data-version=\"latest\" href=\"parameters.html#p\"><span class=\"std std-ref\">p</span></a></td>\n",
    "<td>✓</td>\n",
    "<td>✓</td>\n",
    "<td>✓</td>\n",
    "</tr>\n",
    "<tr class=\"row-even\"><td><a class=\"hoverxref tooltip reference internal\" data-doc=\"parameters\" data-docpath=\"/parameters.html\" data-project=\"pypowerup\" data-section=\"r21\" data-version=\"latest\" href=\"parameters.html#r21\"><span class=\"std std-ref\">r21</span></a></td>\n",
    "<td>✓</td>\n",
    "<td>✓</td>\n",
    "<td>✓</td>\n",
    "</tr>\n",
    "<tr class=\"row-even\"><td><a class=\"hoverxref tooltip reference internal\" data-doc=\"parameters\" data-docpath=\"/parameters.html\" data-project=\"pypowerup\" data-section=\"rho2\" data-version=\"latest\" href=\"parameters.html#rho2\"><span class=\"std std-ref\">rho2</span></a></td>\n",
    "<td>✓</td>\n",
    "<td>✓</td>\n",
    "<td>✓</td>\n",
    "</tr>\n",
    "<tr class=\"row-even\"><td><a class=\"hoverxref tooltip reference internal\" data-doc=\"parameters\" data-docpath=\"/parameters.html\" data-project=\"pypowerup\" data-section=\"r22\" data-version=\"latest\" href=\"parameters.html#r22\"><span class=\"std std-ref\">r22</span></a></td>\n",
    "<td>✓</td>\n",
    "<td>✓</td>\n",
    "<td>✓</td>\n",
    "</tr>\n",
    "<tr class=\"row-even\"><td><a class=\"hoverxref tooltip reference internal\" data-doc=\"parameters\" data-docpath=\"/parameters.html\" data-project=\"pypowerup\" data-section=\"rho3\" data-version=\"latest\" href=\"parameters.html#rho3\"><span class=\"std std-ref\">rho3</span></a></td>\n",
    "<td>✓</td>\n",
    "<td>✓</td>\n",
    "<td>✓</td>\n",
    "</tr>\n",
    "<tr class=\"row-even\"><td><a class=\"hoverxref tooltip reference internal\" data-doc=\"parameters\" data-docpath=\"/parameters.html\" data-project=\"pypowerup\" data-section=\"r2t3\" data-version=\"latest\" href=\"parameters.html#r2t3\"><span class=\"std std-ref\">r2t3</span></a></td>\n",
    "<td>✓</td>\n",
    "<td>✓</td>\n",
    "<td>✓</td>\n",
    "</tr>\n",
    "<tr class=\"row-even\"><td><a class=\"hoverxref tooltip reference internal\" data-doc=\"parameters\" data-docpath=\"/parameters.html\" data-project=\"pypowerup\" data-section=\"omega3\" data-version=\"latest\" href=\"parameters.html#omega3\"><span class=\"std std-ref\">omega3</span></a></td>\n",
    "<td>✓</td>\n",
    "<td>✓</td>\n",
    "<td>✓</td>\n",
    "</tr>\n",
    "<tr class=\"row-odd\"><td><a class=\"hoverxref tooltip reference internal\" data-doc=\"parameters\" data-docpath=\"/parameters.html\" data-project=\"pypowerup\" data-section=\"g\" data-version=\"latest\" href=\"parameters.html#g\"><span class=\"std std-ref\">g</span></a></td>\n",
    "<td>✓</td>\n",
    "<td>✓</td>\n",
    "<td>✓</td>\n",
    "</tr>\n",
    "<tr class=\"row-odd\"><td><a class=\"hoverxref tooltip reference internal\" data-doc=\"parameters\" data-docpath=\"/parameters.html\" data-project=\"pypowerup\" data-section=\"design_effect\" data-version=\"latest\" href=\"parameters.html#design_effect\"><span class=\"std std-ref\">design_effect</span></a></td>\n",
    "<td>✓</td>\n",
    "<td>✓</td>\n",
    "<td>✓</td>\n",
    "</tr>\n",
    "</tbody>\n",
    "</table>"
   ]
  }
 ],
 "metadata": {
  "kernelspec": {
   "display_name": "Python 3",
   "language": "python",
   "name": "python3"
  },
  "language_info": {
   "codemirror_mode": {
    "name": "ipython",
    "version": 3
   },
   "file_extension": ".py",
   "mimetype": "text/x-python",
   "name": "python",
   "nbconvert_exporter": "python",
   "pygments_lexer": "ipython3",
   "version": "3.7.7"
  }
 },
 "nbformat": 4,
 "nbformat_minor": 4
}
